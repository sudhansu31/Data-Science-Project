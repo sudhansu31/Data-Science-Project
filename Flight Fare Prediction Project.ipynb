{
 "cells": [
  {
   "cell_type": "markdown",
   "id": "a0a37999",
   "metadata": {},
   "source": [
    "# 1.Flight Price Prediction\n",
    "## Problem Statement:\n",
    "Flight ticket prices can be something hard to guess, today we might see a price, check out the price of the same flight tomorrow, it will be a different story. We might have often heard travellers saying that flight ticket prices are so unpredictable. Here you will be provided with prices of flight tickets for various airlines between the months of March and June of 2019 and between various cities.\n",
    "\n",
    "Size of training set: 10683 records\n",
    "\n",
    "Size of test set: 2671 records\n",
    "\n",
    "FEATURES:\n",
    "Airline: The name of the airline.\n",
    "\n",
    "Date_of_Journey: The date of the journey\n",
    "\n",
    "Source: The source from which the service begins.\n",
    "\n",
    "Destination: The destination where the service ends.\n",
    "\n",
    "Route: The route taken by the flight to reach the destination.\n",
    "\n",
    "Dep_Time: The time when the journey starts from the source.\n",
    "\n",
    "Arrival_Time: Time of arrival at the destination.\n",
    "\n",
    "Duration: Total duration of the flight.\n",
    "\n",
    "Total_Stops: Total stops between the source and destination.\n",
    "\n",
    "Additional_Info: Additional information about the flight\n",
    "\n",
    "Price: The price of the ticket"
   ]
  },
  {
   "cell_type": "markdown",
   "id": "c3a13ae0",
   "metadata": {},
   "source": [
    "# 2. Import Liabrary"
   ]
  },
  {
   "cell_type": "code",
   "execution_count": 228,
   "id": "e4223dde",
   "metadata": {},
   "outputs": [],
   "source": [
    "import pandas as pd\n",
    "import numpy as np\n",
    "import matplotlib.pyplot as plt\n",
    "import seaborn as sns\n",
    "import warnings\n",
    "warnings.filterwarnings(\"ignore\")"
   ]
  },
  {
   "cell_type": "markdown",
   "id": "c9237e7a",
   "metadata": {},
   "source": [
    "# 3.Import Dataset"
   ]
  },
  {
   "cell_type": "code",
   "execution_count": 229,
   "id": "c7cd6587",
   "metadata": {},
   "outputs": [],
   "source": [
    "df_train=pd.read_excel(\"Data_Trainflight.xlsx\")\n",
    "df_test=pd.read_excel(\"Test_setflight.xlsx\")"
   ]
  },
  {
   "cell_type": "markdown",
   "id": "662caa29",
   "metadata": {},
   "source": [
    "**There are two dataset available train and test data.**"
   ]
  },
  {
   "cell_type": "markdown",
   "id": "b5e75009",
   "metadata": {},
   "source": [
    "# 4.Basic Analysis of Dataset"
   ]
  },
  {
   "cell_type": "code",
   "execution_count": 230,
   "id": "ef9750a3",
   "metadata": {},
   "outputs": [
    {
     "data": {
      "text/html": [
       "<div>\n",
       "<style scoped>\n",
       "    .dataframe tbody tr th:only-of-type {\n",
       "        vertical-align: middle;\n",
       "    }\n",
       "\n",
       "    .dataframe tbody tr th {\n",
       "        vertical-align: top;\n",
       "    }\n",
       "\n",
       "    .dataframe thead th {\n",
       "        text-align: right;\n",
       "    }\n",
       "</style>\n",
       "<table border=\"1\" class=\"dataframe\">\n",
       "  <thead>\n",
       "    <tr style=\"text-align: right;\">\n",
       "      <th></th>\n",
       "      <th>Airline</th>\n",
       "      <th>Date_of_Journey</th>\n",
       "      <th>Source</th>\n",
       "      <th>Destination</th>\n",
       "      <th>Route</th>\n",
       "      <th>Dep_Time</th>\n",
       "      <th>Arrival_Time</th>\n",
       "      <th>Duration</th>\n",
       "      <th>Total_Stops</th>\n",
       "      <th>Additional_Info</th>\n",
       "      <th>Price</th>\n",
       "    </tr>\n",
       "  </thead>\n",
       "  <tbody>\n",
       "    <tr>\n",
       "      <th>0</th>\n",
       "      <td>IndiGo</td>\n",
       "      <td>24/03/2019</td>\n",
       "      <td>Banglore</td>\n",
       "      <td>New Delhi</td>\n",
       "      <td>BLR → DEL</td>\n",
       "      <td>22:20</td>\n",
       "      <td>01:10 22 Mar</td>\n",
       "      <td>2h 50m</td>\n",
       "      <td>non-stop</td>\n",
       "      <td>No info</td>\n",
       "      <td>3897</td>\n",
       "    </tr>\n",
       "    <tr>\n",
       "      <th>1</th>\n",
       "      <td>Air India</td>\n",
       "      <td>1/05/2019</td>\n",
       "      <td>Kolkata</td>\n",
       "      <td>Banglore</td>\n",
       "      <td>CCU → IXR → BBI → BLR</td>\n",
       "      <td>05:50</td>\n",
       "      <td>13:15</td>\n",
       "      <td>7h 25m</td>\n",
       "      <td>2 stops</td>\n",
       "      <td>No info</td>\n",
       "      <td>7662</td>\n",
       "    </tr>\n",
       "    <tr>\n",
       "      <th>2</th>\n",
       "      <td>Jet Airways</td>\n",
       "      <td>9/06/2019</td>\n",
       "      <td>Delhi</td>\n",
       "      <td>Cochin</td>\n",
       "      <td>DEL → LKO → BOM → COK</td>\n",
       "      <td>09:25</td>\n",
       "      <td>04:25 10 Jun</td>\n",
       "      <td>19h</td>\n",
       "      <td>2 stops</td>\n",
       "      <td>No info</td>\n",
       "      <td>13882</td>\n",
       "    </tr>\n",
       "    <tr>\n",
       "      <th>3</th>\n",
       "      <td>IndiGo</td>\n",
       "      <td>12/05/2019</td>\n",
       "      <td>Kolkata</td>\n",
       "      <td>Banglore</td>\n",
       "      <td>CCU → NAG → BLR</td>\n",
       "      <td>18:05</td>\n",
       "      <td>23:30</td>\n",
       "      <td>5h 25m</td>\n",
       "      <td>1 stop</td>\n",
       "      <td>No info</td>\n",
       "      <td>6218</td>\n",
       "    </tr>\n",
       "    <tr>\n",
       "      <th>4</th>\n",
       "      <td>IndiGo</td>\n",
       "      <td>01/03/2019</td>\n",
       "      <td>Banglore</td>\n",
       "      <td>New Delhi</td>\n",
       "      <td>BLR → NAG → DEL</td>\n",
       "      <td>16:50</td>\n",
       "      <td>21:35</td>\n",
       "      <td>4h 45m</td>\n",
       "      <td>1 stop</td>\n",
       "      <td>No info</td>\n",
       "      <td>13302</td>\n",
       "    </tr>\n",
       "  </tbody>\n",
       "</table>\n",
       "</div>"
      ],
      "text/plain": [
       "       Airline Date_of_Journey    Source Destination                  Route  \\\n",
       "0       IndiGo      24/03/2019  Banglore   New Delhi              BLR → DEL   \n",
       "1    Air India       1/05/2019   Kolkata    Banglore  CCU → IXR → BBI → BLR   \n",
       "2  Jet Airways       9/06/2019     Delhi      Cochin  DEL → LKO → BOM → COK   \n",
       "3       IndiGo      12/05/2019   Kolkata    Banglore        CCU → NAG → BLR   \n",
       "4       IndiGo      01/03/2019  Banglore   New Delhi        BLR → NAG → DEL   \n",
       "\n",
       "  Dep_Time  Arrival_Time Duration Total_Stops Additional_Info  Price  \n",
       "0    22:20  01:10 22 Mar   2h 50m    non-stop         No info   3897  \n",
       "1    05:50         13:15   7h 25m     2 stops         No info   7662  \n",
       "2    09:25  04:25 10 Jun      19h     2 stops         No info  13882  \n",
       "3    18:05         23:30   5h 25m      1 stop         No info   6218  \n",
       "4    16:50         21:35   4h 45m      1 stop         No info  13302  "
      ]
     },
     "execution_count": 230,
     "metadata": {},
     "output_type": "execute_result"
    }
   ],
   "source": [
    "df_train.head()"
   ]
  },
  {
   "cell_type": "code",
   "execution_count": 231,
   "id": "4a653d4f",
   "metadata": {},
   "outputs": [
    {
     "data": {
      "text/html": [
       "<div>\n",
       "<style scoped>\n",
       "    .dataframe tbody tr th:only-of-type {\n",
       "        vertical-align: middle;\n",
       "    }\n",
       "\n",
       "    .dataframe tbody tr th {\n",
       "        vertical-align: top;\n",
       "    }\n",
       "\n",
       "    .dataframe thead th {\n",
       "        text-align: right;\n",
       "    }\n",
       "</style>\n",
       "<table border=\"1\" class=\"dataframe\">\n",
       "  <thead>\n",
       "    <tr style=\"text-align: right;\">\n",
       "      <th></th>\n",
       "      <th>Airline</th>\n",
       "      <th>Date_of_Journey</th>\n",
       "      <th>Source</th>\n",
       "      <th>Destination</th>\n",
       "      <th>Route</th>\n",
       "      <th>Dep_Time</th>\n",
       "      <th>Arrival_Time</th>\n",
       "      <th>Duration</th>\n",
       "      <th>Total_Stops</th>\n",
       "      <th>Additional_Info</th>\n",
       "    </tr>\n",
       "  </thead>\n",
       "  <tbody>\n",
       "    <tr>\n",
       "      <th>0</th>\n",
       "      <td>Jet Airways</td>\n",
       "      <td>6/06/2019</td>\n",
       "      <td>Delhi</td>\n",
       "      <td>Cochin</td>\n",
       "      <td>DEL → BOM → COK</td>\n",
       "      <td>17:30</td>\n",
       "      <td>04:25 07 Jun</td>\n",
       "      <td>10h 55m</td>\n",
       "      <td>1 stop</td>\n",
       "      <td>No info</td>\n",
       "    </tr>\n",
       "    <tr>\n",
       "      <th>1</th>\n",
       "      <td>IndiGo</td>\n",
       "      <td>12/05/2019</td>\n",
       "      <td>Kolkata</td>\n",
       "      <td>Banglore</td>\n",
       "      <td>CCU → MAA → BLR</td>\n",
       "      <td>06:20</td>\n",
       "      <td>10:20</td>\n",
       "      <td>4h</td>\n",
       "      <td>1 stop</td>\n",
       "      <td>No info</td>\n",
       "    </tr>\n",
       "    <tr>\n",
       "      <th>2</th>\n",
       "      <td>Jet Airways</td>\n",
       "      <td>21/05/2019</td>\n",
       "      <td>Delhi</td>\n",
       "      <td>Cochin</td>\n",
       "      <td>DEL → BOM → COK</td>\n",
       "      <td>19:15</td>\n",
       "      <td>19:00 22 May</td>\n",
       "      <td>23h 45m</td>\n",
       "      <td>1 stop</td>\n",
       "      <td>In-flight meal not included</td>\n",
       "    </tr>\n",
       "    <tr>\n",
       "      <th>3</th>\n",
       "      <td>Multiple carriers</td>\n",
       "      <td>21/05/2019</td>\n",
       "      <td>Delhi</td>\n",
       "      <td>Cochin</td>\n",
       "      <td>DEL → BOM → COK</td>\n",
       "      <td>08:00</td>\n",
       "      <td>21:00</td>\n",
       "      <td>13h</td>\n",
       "      <td>1 stop</td>\n",
       "      <td>No info</td>\n",
       "    </tr>\n",
       "    <tr>\n",
       "      <th>4</th>\n",
       "      <td>Air Asia</td>\n",
       "      <td>24/06/2019</td>\n",
       "      <td>Banglore</td>\n",
       "      <td>Delhi</td>\n",
       "      <td>BLR → DEL</td>\n",
       "      <td>23:55</td>\n",
       "      <td>02:45 25 Jun</td>\n",
       "      <td>2h 50m</td>\n",
       "      <td>non-stop</td>\n",
       "      <td>No info</td>\n",
       "    </tr>\n",
       "  </tbody>\n",
       "</table>\n",
       "</div>"
      ],
      "text/plain": [
       "             Airline Date_of_Journey    Source Destination            Route  \\\n",
       "0        Jet Airways       6/06/2019     Delhi      Cochin  DEL → BOM → COK   \n",
       "1             IndiGo      12/05/2019   Kolkata    Banglore  CCU → MAA → BLR   \n",
       "2        Jet Airways      21/05/2019     Delhi      Cochin  DEL → BOM → COK   \n",
       "3  Multiple carriers      21/05/2019     Delhi      Cochin  DEL → BOM → COK   \n",
       "4           Air Asia      24/06/2019  Banglore       Delhi        BLR → DEL   \n",
       "\n",
       "  Dep_Time  Arrival_Time Duration Total_Stops              Additional_Info  \n",
       "0    17:30  04:25 07 Jun  10h 55m      1 stop                      No info  \n",
       "1    06:20         10:20       4h      1 stop                      No info  \n",
       "2    19:15  19:00 22 May  23h 45m      1 stop  In-flight meal not included  \n",
       "3    08:00         21:00      13h      1 stop                      No info  \n",
       "4    23:55  02:45 25 Jun   2h 50m    non-stop                      No info  "
      ]
     },
     "execution_count": 231,
     "metadata": {},
     "output_type": "execute_result"
    }
   ],
   "source": [
    "df_test.head()"
   ]
  },
  {
   "cell_type": "code",
   "execution_count": 232,
   "id": "60360b35",
   "metadata": {},
   "outputs": [
    {
     "name": "stdout",
     "output_type": "stream",
     "text": [
      "Shape of Train Dataset: (10683, 11)\n",
      "Total Rows in Train Dataset: 10683\n",
      "Total Columns in Train Dataset: 11\n",
      "************************************\n",
      "Shape of Test Dataset: (2671, 10)\n",
      "Total Rows in Test Dataset: 2671\n",
      "Total Columns in Test Dataset: 10\n"
     ]
    }
   ],
   "source": [
    "print(\"Shape of Train Dataset:\",df_train.shape)\n",
    "print(\"Total Rows in Train Dataset:\",df_train.shape[0])\n",
    "print(\"Total Columns in Train Dataset:\",df_train.shape[1])\n",
    "print(\"************************************\")\n",
    "print(\"Shape of Test Dataset:\",df_test.shape)\n",
    "print(\"Total Rows in Test Dataset:\",df_test.shape[0])\n",
    "print(\"Total Columns in Test Dataset:\",df_test.shape[1])"
   ]
  },
  {
   "cell_type": "code",
   "execution_count": 233,
   "id": "1811497c",
   "metadata": {},
   "outputs": [
    {
     "name": "stdout",
     "output_type": "stream",
     "text": [
      "<class 'pandas.core.frame.DataFrame'>\n",
      "RangeIndex: 10683 entries, 0 to 10682\n",
      "Data columns (total 11 columns):\n",
      " #   Column           Non-Null Count  Dtype \n",
      "---  ------           --------------  ----- \n",
      " 0   Airline          10683 non-null  object\n",
      " 1   Date_of_Journey  10683 non-null  object\n",
      " 2   Source           10683 non-null  object\n",
      " 3   Destination      10683 non-null  object\n",
      " 4   Route            10682 non-null  object\n",
      " 5   Dep_Time         10683 non-null  object\n",
      " 6   Arrival_Time     10683 non-null  object\n",
      " 7   Duration         10683 non-null  object\n",
      " 8   Total_Stops      10682 non-null  object\n",
      " 9   Additional_Info  10683 non-null  object\n",
      " 10  Price            10683 non-null  int64 \n",
      "dtypes: int64(1), object(10)\n",
      "memory usage: 918.2+ KB\n",
      "None\n",
      "\n",
      "*******************************************\n",
      "<class 'pandas.core.frame.DataFrame'>\n",
      "RangeIndex: 2671 entries, 0 to 2670\n",
      "Data columns (total 10 columns):\n",
      " #   Column           Non-Null Count  Dtype \n",
      "---  ------           --------------  ----- \n",
      " 0   Airline          2671 non-null   object\n",
      " 1   Date_of_Journey  2671 non-null   object\n",
      " 2   Source           2671 non-null   object\n",
      " 3   Destination      2671 non-null   object\n",
      " 4   Route            2671 non-null   object\n",
      " 5   Dep_Time         2671 non-null   object\n",
      " 6   Arrival_Time     2671 non-null   object\n",
      " 7   Duration         2671 non-null   object\n",
      " 8   Total_Stops      2671 non-null   object\n",
      " 9   Additional_Info  2671 non-null   object\n",
      "dtypes: object(10)\n",
      "memory usage: 208.8+ KB\n",
      "None\n"
     ]
    }
   ],
   "source": [
    "print(df_train.info())\n",
    "print(\"\\n*******************************************\")\n",
    "print(df_test.info())"
   ]
  },
  {
   "cell_type": "markdown",
   "id": "a194bfc2",
   "metadata": {},
   "source": [
    "**Observation.**\n",
    "- There are 10 columns which data type is object and 1 columns which is int64 in train dataset.\n",
    "- There are 10 columns which data type is object in test dataset."
   ]
  },
  {
   "cell_type": "code",
   "execution_count": 234,
   "id": "83180598",
   "metadata": {},
   "outputs": [
    {
     "data": {
      "text/html": [
       "<div>\n",
       "<style scoped>\n",
       "    .dataframe tbody tr th:only-of-type {\n",
       "        vertical-align: middle;\n",
       "    }\n",
       "\n",
       "    .dataframe tbody tr th {\n",
       "        vertical-align: top;\n",
       "    }\n",
       "\n",
       "    .dataframe thead th {\n",
       "        text-align: right;\n",
       "    }\n",
       "</style>\n",
       "<table border=\"1\" class=\"dataframe\">\n",
       "  <thead>\n",
       "    <tr style=\"text-align: right;\">\n",
       "      <th></th>\n",
       "      <th>Airline</th>\n",
       "      <th>Date_of_Journey</th>\n",
       "      <th>Source</th>\n",
       "      <th>Destination</th>\n",
       "      <th>Route</th>\n",
       "      <th>Dep_Time</th>\n",
       "      <th>Arrival_Time</th>\n",
       "      <th>Duration</th>\n",
       "      <th>Total_Stops</th>\n",
       "      <th>Additional_Info</th>\n",
       "      <th>Price</th>\n",
       "    </tr>\n",
       "  </thead>\n",
       "  <tbody>\n",
       "    <tr>\n",
       "      <th>count</th>\n",
       "      <td>10683</td>\n",
       "      <td>10683</td>\n",
       "      <td>10683</td>\n",
       "      <td>10683</td>\n",
       "      <td>10682</td>\n",
       "      <td>10683</td>\n",
       "      <td>10683</td>\n",
       "      <td>10683</td>\n",
       "      <td>10682</td>\n",
       "      <td>10683</td>\n",
       "      <td>10683.000000</td>\n",
       "    </tr>\n",
       "    <tr>\n",
       "      <th>unique</th>\n",
       "      <td>12</td>\n",
       "      <td>44</td>\n",
       "      <td>5</td>\n",
       "      <td>6</td>\n",
       "      <td>128</td>\n",
       "      <td>222</td>\n",
       "      <td>1343</td>\n",
       "      <td>368</td>\n",
       "      <td>5</td>\n",
       "      <td>10</td>\n",
       "      <td>NaN</td>\n",
       "    </tr>\n",
       "    <tr>\n",
       "      <th>top</th>\n",
       "      <td>Jet Airways</td>\n",
       "      <td>18/05/2019</td>\n",
       "      <td>Delhi</td>\n",
       "      <td>Cochin</td>\n",
       "      <td>DEL → BOM → COK</td>\n",
       "      <td>18:55</td>\n",
       "      <td>19:00</td>\n",
       "      <td>2h 50m</td>\n",
       "      <td>1 stop</td>\n",
       "      <td>No info</td>\n",
       "      <td>NaN</td>\n",
       "    </tr>\n",
       "    <tr>\n",
       "      <th>freq</th>\n",
       "      <td>3849</td>\n",
       "      <td>504</td>\n",
       "      <td>4537</td>\n",
       "      <td>4537</td>\n",
       "      <td>2376</td>\n",
       "      <td>233</td>\n",
       "      <td>423</td>\n",
       "      <td>550</td>\n",
       "      <td>5625</td>\n",
       "      <td>8345</td>\n",
       "      <td>NaN</td>\n",
       "    </tr>\n",
       "    <tr>\n",
       "      <th>mean</th>\n",
       "      <td>NaN</td>\n",
       "      <td>NaN</td>\n",
       "      <td>NaN</td>\n",
       "      <td>NaN</td>\n",
       "      <td>NaN</td>\n",
       "      <td>NaN</td>\n",
       "      <td>NaN</td>\n",
       "      <td>NaN</td>\n",
       "      <td>NaN</td>\n",
       "      <td>NaN</td>\n",
       "      <td>9087.064121</td>\n",
       "    </tr>\n",
       "    <tr>\n",
       "      <th>std</th>\n",
       "      <td>NaN</td>\n",
       "      <td>NaN</td>\n",
       "      <td>NaN</td>\n",
       "      <td>NaN</td>\n",
       "      <td>NaN</td>\n",
       "      <td>NaN</td>\n",
       "      <td>NaN</td>\n",
       "      <td>NaN</td>\n",
       "      <td>NaN</td>\n",
       "      <td>NaN</td>\n",
       "      <td>4611.359167</td>\n",
       "    </tr>\n",
       "    <tr>\n",
       "      <th>min</th>\n",
       "      <td>NaN</td>\n",
       "      <td>NaN</td>\n",
       "      <td>NaN</td>\n",
       "      <td>NaN</td>\n",
       "      <td>NaN</td>\n",
       "      <td>NaN</td>\n",
       "      <td>NaN</td>\n",
       "      <td>NaN</td>\n",
       "      <td>NaN</td>\n",
       "      <td>NaN</td>\n",
       "      <td>1759.000000</td>\n",
       "    </tr>\n",
       "    <tr>\n",
       "      <th>25%</th>\n",
       "      <td>NaN</td>\n",
       "      <td>NaN</td>\n",
       "      <td>NaN</td>\n",
       "      <td>NaN</td>\n",
       "      <td>NaN</td>\n",
       "      <td>NaN</td>\n",
       "      <td>NaN</td>\n",
       "      <td>NaN</td>\n",
       "      <td>NaN</td>\n",
       "      <td>NaN</td>\n",
       "      <td>5277.000000</td>\n",
       "    </tr>\n",
       "    <tr>\n",
       "      <th>50%</th>\n",
       "      <td>NaN</td>\n",
       "      <td>NaN</td>\n",
       "      <td>NaN</td>\n",
       "      <td>NaN</td>\n",
       "      <td>NaN</td>\n",
       "      <td>NaN</td>\n",
       "      <td>NaN</td>\n",
       "      <td>NaN</td>\n",
       "      <td>NaN</td>\n",
       "      <td>NaN</td>\n",
       "      <td>8372.000000</td>\n",
       "    </tr>\n",
       "    <tr>\n",
       "      <th>75%</th>\n",
       "      <td>NaN</td>\n",
       "      <td>NaN</td>\n",
       "      <td>NaN</td>\n",
       "      <td>NaN</td>\n",
       "      <td>NaN</td>\n",
       "      <td>NaN</td>\n",
       "      <td>NaN</td>\n",
       "      <td>NaN</td>\n",
       "      <td>NaN</td>\n",
       "      <td>NaN</td>\n",
       "      <td>12373.000000</td>\n",
       "    </tr>\n",
       "    <tr>\n",
       "      <th>max</th>\n",
       "      <td>NaN</td>\n",
       "      <td>NaN</td>\n",
       "      <td>NaN</td>\n",
       "      <td>NaN</td>\n",
       "      <td>NaN</td>\n",
       "      <td>NaN</td>\n",
       "      <td>NaN</td>\n",
       "      <td>NaN</td>\n",
       "      <td>NaN</td>\n",
       "      <td>NaN</td>\n",
       "      <td>79512.000000</td>\n",
       "    </tr>\n",
       "  </tbody>\n",
       "</table>\n",
       "</div>"
      ],
      "text/plain": [
       "            Airline Date_of_Journey Source Destination            Route  \\\n",
       "count         10683           10683  10683       10683            10682   \n",
       "unique           12              44      5           6              128   \n",
       "top     Jet Airways      18/05/2019  Delhi      Cochin  DEL → BOM → COK   \n",
       "freq           3849             504   4537        4537             2376   \n",
       "mean            NaN             NaN    NaN         NaN              NaN   \n",
       "std             NaN             NaN    NaN         NaN              NaN   \n",
       "min             NaN             NaN    NaN         NaN              NaN   \n",
       "25%             NaN             NaN    NaN         NaN              NaN   \n",
       "50%             NaN             NaN    NaN         NaN              NaN   \n",
       "75%             NaN             NaN    NaN         NaN              NaN   \n",
       "max             NaN             NaN    NaN         NaN              NaN   \n",
       "\n",
       "       Dep_Time Arrival_Time Duration Total_Stops Additional_Info  \\\n",
       "count     10683        10683    10683       10682           10683   \n",
       "unique      222         1343      368           5              10   \n",
       "top       18:55        19:00   2h 50m      1 stop         No info   \n",
       "freq        233          423      550        5625            8345   \n",
       "mean        NaN          NaN      NaN         NaN             NaN   \n",
       "std         NaN          NaN      NaN         NaN             NaN   \n",
       "min         NaN          NaN      NaN         NaN             NaN   \n",
       "25%         NaN          NaN      NaN         NaN             NaN   \n",
       "50%         NaN          NaN      NaN         NaN             NaN   \n",
       "75%         NaN          NaN      NaN         NaN             NaN   \n",
       "max         NaN          NaN      NaN         NaN             NaN   \n",
       "\n",
       "               Price  \n",
       "count   10683.000000  \n",
       "unique           NaN  \n",
       "top              NaN  \n",
       "freq             NaN  \n",
       "mean     9087.064121  \n",
       "std      4611.359167  \n",
       "min      1759.000000  \n",
       "25%      5277.000000  \n",
       "50%      8372.000000  \n",
       "75%     12373.000000  \n",
       "max     79512.000000  "
      ]
     },
     "execution_count": 234,
     "metadata": {},
     "output_type": "execute_result"
    }
   ],
   "source": [
    "df_train.describe(include=\"all\")"
   ]
  },
  {
   "cell_type": "markdown",
   "id": "140f0e57",
   "metadata": {},
   "source": [
    "**Observation.**\n",
    "- There are missing value in Route,Total_Stops features.\n",
    "- Except our target variable all feature are in object type.\n",
    "- There are 12 type of unique ariline dataset is available.\n",
    "- Maximum Airline source place is Delhi and Destination place is Cochin.\n",
    "- There are 128 unique route for airline."
   ]
  },
  {
   "cell_type": "code",
   "execution_count": 235,
   "id": "d902bc24",
   "metadata": {},
   "outputs": [
    {
     "data": {
      "text/html": [
       "<div>\n",
       "<style scoped>\n",
       "    .dataframe tbody tr th:only-of-type {\n",
       "        vertical-align: middle;\n",
       "    }\n",
       "\n",
       "    .dataframe tbody tr th {\n",
       "        vertical-align: top;\n",
       "    }\n",
       "\n",
       "    .dataframe thead th {\n",
       "        text-align: right;\n",
       "    }\n",
       "</style>\n",
       "<table border=\"1\" class=\"dataframe\">\n",
       "  <thead>\n",
       "    <tr style=\"text-align: right;\">\n",
       "      <th></th>\n",
       "      <th>Airline</th>\n",
       "      <th>Date_of_Journey</th>\n",
       "      <th>Source</th>\n",
       "      <th>Destination</th>\n",
       "      <th>Route</th>\n",
       "      <th>Dep_Time</th>\n",
       "      <th>Arrival_Time</th>\n",
       "      <th>Duration</th>\n",
       "      <th>Total_Stops</th>\n",
       "      <th>Additional_Info</th>\n",
       "    </tr>\n",
       "  </thead>\n",
       "  <tbody>\n",
       "    <tr>\n",
       "      <th>count</th>\n",
       "      <td>2671</td>\n",
       "      <td>2671</td>\n",
       "      <td>2671</td>\n",
       "      <td>2671</td>\n",
       "      <td>2671</td>\n",
       "      <td>2671</td>\n",
       "      <td>2671</td>\n",
       "      <td>2671</td>\n",
       "      <td>2671</td>\n",
       "      <td>2671</td>\n",
       "    </tr>\n",
       "    <tr>\n",
       "      <th>unique</th>\n",
       "      <td>11</td>\n",
       "      <td>44</td>\n",
       "      <td>5</td>\n",
       "      <td>6</td>\n",
       "      <td>100</td>\n",
       "      <td>199</td>\n",
       "      <td>704</td>\n",
       "      <td>320</td>\n",
       "      <td>5</td>\n",
       "      <td>6</td>\n",
       "    </tr>\n",
       "    <tr>\n",
       "      <th>top</th>\n",
       "      <td>Jet Airways</td>\n",
       "      <td>9/05/2019</td>\n",
       "      <td>Delhi</td>\n",
       "      <td>Cochin</td>\n",
       "      <td>DEL → BOM → COK</td>\n",
       "      <td>10:00</td>\n",
       "      <td>19:00</td>\n",
       "      <td>2h 50m</td>\n",
       "      <td>1 stop</td>\n",
       "      <td>No info</td>\n",
       "    </tr>\n",
       "    <tr>\n",
       "      <th>freq</th>\n",
       "      <td>897</td>\n",
       "      <td>144</td>\n",
       "      <td>1145</td>\n",
       "      <td>1145</td>\n",
       "      <td>624</td>\n",
       "      <td>62</td>\n",
       "      <td>113</td>\n",
       "      <td>122</td>\n",
       "      <td>1431</td>\n",
       "      <td>2148</td>\n",
       "    </tr>\n",
       "  </tbody>\n",
       "</table>\n",
       "</div>"
      ],
      "text/plain": [
       "            Airline Date_of_Journey Source Destination            Route  \\\n",
       "count          2671            2671   2671        2671             2671   \n",
       "unique           11              44      5           6              100   \n",
       "top     Jet Airways       9/05/2019  Delhi      Cochin  DEL → BOM → COK   \n",
       "freq            897             144   1145        1145              624   \n",
       "\n",
       "       Dep_Time Arrival_Time Duration Total_Stops Additional_Info  \n",
       "count      2671         2671     2671        2671            2671  \n",
       "unique      199          704      320           5               6  \n",
       "top       10:00        19:00   2h 50m      1 stop         No info  \n",
       "freq         62          113      122        1431            2148  "
      ]
     },
     "execution_count": 235,
     "metadata": {},
     "output_type": "execute_result"
    }
   ],
   "source": [
    "df_test.describe(include=\"all\")"
   ]
  },
  {
   "cell_type": "markdown",
   "id": "5786e302",
   "metadata": {},
   "source": [
    "**Observation**\n",
    "- In test dataset all columns are in object type.\n",
    "- There are 11 unique ariline data is available in test dataset.\n",
    "- There is no missing value in test dataset."
   ]
  },
  {
   "cell_type": "markdown",
   "id": "42c74d63",
   "metadata": {},
   "source": [
    "# 5. Checking null value in dataset"
   ]
  },
  {
   "cell_type": "code",
   "execution_count": 236,
   "id": "8f1ce200",
   "metadata": {},
   "outputs": [
    {
     "data": {
      "text/plain": [
       "Airline            0\n",
       "Date_of_Journey    0\n",
       "Source             0\n",
       "Destination        0\n",
       "Route              1\n",
       "Dep_Time           0\n",
       "Arrival_Time       0\n",
       "Duration           0\n",
       "Total_Stops        1\n",
       "Additional_Info    0\n",
       "Price              0\n",
       "dtype: int64"
      ]
     },
     "execution_count": 236,
     "metadata": {},
     "output_type": "execute_result"
    }
   ],
   "source": [
    "df_train.isnull().sum()"
   ]
  },
  {
   "cell_type": "markdown",
   "id": "819469a0",
   "metadata": {},
   "source": [
    "**There are 2 columns where null value exist.**"
   ]
  },
  {
   "cell_type": "code",
   "execution_count": 237,
   "id": "ea5ba3b5",
   "metadata": {},
   "outputs": [
    {
     "data": {
      "text/plain": [
       "Airline            0\n",
       "Date_of_Journey    0\n",
       "Source             0\n",
       "Destination        0\n",
       "Route              0\n",
       "Dep_Time           0\n",
       "Arrival_Time       0\n",
       "Duration           0\n",
       "Total_Stops        0\n",
       "Additional_Info    0\n",
       "dtype: int64"
      ]
     },
     "execution_count": 237,
     "metadata": {},
     "output_type": "execute_result"
    }
   ],
   "source": [
    "df_test.isnull().sum()"
   ]
  },
  {
   "cell_type": "markdown",
   "id": "7b7e75ec",
   "metadata": {},
   "source": [
    "**There is no null value in Test dataset.**"
   ]
  },
  {
   "cell_type": "markdown",
   "id": "bf91dc43",
   "metadata": {},
   "source": [
    "# 6. Dealing null value in Train dataset."
   ]
  },
  {
   "cell_type": "code",
   "execution_count": 238,
   "id": "a65f7193",
   "metadata": {},
   "outputs": [
    {
     "data": {
      "text/html": [
       "<div>\n",
       "<style scoped>\n",
       "    .dataframe tbody tr th:only-of-type {\n",
       "        vertical-align: middle;\n",
       "    }\n",
       "\n",
       "    .dataframe tbody tr th {\n",
       "        vertical-align: top;\n",
       "    }\n",
       "\n",
       "    .dataframe thead th {\n",
       "        text-align: right;\n",
       "    }\n",
       "</style>\n",
       "<table border=\"1\" class=\"dataframe\">\n",
       "  <thead>\n",
       "    <tr style=\"text-align: right;\">\n",
       "      <th></th>\n",
       "      <th>Airline</th>\n",
       "      <th>Date_of_Journey</th>\n",
       "      <th>Source</th>\n",
       "      <th>Destination</th>\n",
       "      <th>Route</th>\n",
       "      <th>Dep_Time</th>\n",
       "      <th>Arrival_Time</th>\n",
       "      <th>Duration</th>\n",
       "      <th>Total_Stops</th>\n",
       "      <th>Additional_Info</th>\n",
       "      <th>Price</th>\n",
       "    </tr>\n",
       "  </thead>\n",
       "  <tbody>\n",
       "    <tr>\n",
       "      <th>9039</th>\n",
       "      <td>Air India</td>\n",
       "      <td>6/05/2019</td>\n",
       "      <td>Delhi</td>\n",
       "      <td>Cochin</td>\n",
       "      <td>NaN</td>\n",
       "      <td>09:45</td>\n",
       "      <td>09:25 07 May</td>\n",
       "      <td>23h 40m</td>\n",
       "      <td>NaN</td>\n",
       "      <td>No info</td>\n",
       "      <td>7480</td>\n",
       "    </tr>\n",
       "  </tbody>\n",
       "</table>\n",
       "</div>"
      ],
      "text/plain": [
       "        Airline Date_of_Journey Source Destination Route Dep_Time  \\\n",
       "9039  Air India       6/05/2019  Delhi      Cochin   NaN    09:45   \n",
       "\n",
       "      Arrival_Time Duration Total_Stops Additional_Info  Price  \n",
       "9039  09:25 07 May  23h 40m         NaN         No info   7480  "
      ]
     },
     "execution_count": 238,
     "metadata": {},
     "output_type": "execute_result"
    }
   ],
   "source": [
    "df_train[df_train[\"Route\"].isnull()]"
   ]
  },
  {
   "cell_type": "code",
   "execution_count": 239,
   "id": "c3d983d1",
   "metadata": {},
   "outputs": [
    {
     "data": {
      "text/plain": [
       "9039    NaN\n",
       "Name: Total_Stops, dtype: object"
      ]
     },
     "execution_count": 239,
     "metadata": {},
     "output_type": "execute_result"
    }
   ],
   "source": [
    "df_train[df_train[\"Route\"].isnull()][\"Total_Stops\"]"
   ]
  },
  {
   "cell_type": "markdown",
   "id": "5d3e9793",
   "metadata": {},
   "source": [
    "**As we can see there in row numeber 9039, in both coluumns Route and Total_Stops having NaN value, so we will drop this rows will help us to remove NaN from both columns.**"
   ]
  },
  {
   "cell_type": "code",
   "execution_count": 240,
   "id": "fc66ed8b",
   "metadata": {},
   "outputs": [],
   "source": [
    "df_train=df_train.dropna(axis=0,subset=[\"Route\"])"
   ]
  },
  {
   "cell_type": "code",
   "execution_count": 241,
   "id": "5a54e6d9",
   "metadata": {},
   "outputs": [
    {
     "data": {
      "text/html": [
       "<div>\n",
       "<style scoped>\n",
       "    .dataframe tbody tr th:only-of-type {\n",
       "        vertical-align: middle;\n",
       "    }\n",
       "\n",
       "    .dataframe tbody tr th {\n",
       "        vertical-align: top;\n",
       "    }\n",
       "\n",
       "    .dataframe thead th {\n",
       "        text-align: right;\n",
       "    }\n",
       "</style>\n",
       "<table border=\"1\" class=\"dataframe\">\n",
       "  <thead>\n",
       "    <tr style=\"text-align: right;\">\n",
       "      <th></th>\n",
       "      <th>Airline</th>\n",
       "      <th>Date_of_Journey</th>\n",
       "      <th>Source</th>\n",
       "      <th>Destination</th>\n",
       "      <th>Route</th>\n",
       "      <th>Dep_Time</th>\n",
       "      <th>Arrival_Time</th>\n",
       "      <th>Duration</th>\n",
       "      <th>Total_Stops</th>\n",
       "      <th>Additional_Info</th>\n",
       "      <th>Price</th>\n",
       "    </tr>\n",
       "  </thead>\n",
       "  <tbody>\n",
       "  </tbody>\n",
       "</table>\n",
       "</div>"
      ],
      "text/plain": [
       "Empty DataFrame\n",
       "Columns: [Airline, Date_of_Journey, Source, Destination, Route, Dep_Time, Arrival_Time, Duration, Total_Stops, Additional_Info, Price]\n",
       "Index: []"
      ]
     },
     "execution_count": 241,
     "metadata": {},
     "output_type": "execute_result"
    }
   ],
   "source": [
    "df_train[df_train[\"Route\"].isnull()]"
   ]
  },
  {
   "cell_type": "code",
   "execution_count": 242,
   "id": "669ac50e",
   "metadata": {},
   "outputs": [
    {
     "data": {
      "text/plain": [
       "Airline            0\n",
       "Date_of_Journey    0\n",
       "Source             0\n",
       "Destination        0\n",
       "Route              0\n",
       "Dep_Time           0\n",
       "Arrival_Time       0\n",
       "Duration           0\n",
       "Total_Stops        0\n",
       "Additional_Info    0\n",
       "Price              0\n",
       "dtype: int64"
      ]
     },
     "execution_count": 242,
     "metadata": {},
     "output_type": "execute_result"
    }
   ],
   "source": [
    "df_train.isnull().sum()"
   ]
  },
  {
   "cell_type": "markdown",
   "id": "ac3bfd0f",
   "metadata": {},
   "source": [
    "**As we can see Null value has been removed from the dataset.**"
   ]
  },
  {
   "cell_type": "code",
   "execution_count": 243,
   "id": "f63bd69f",
   "metadata": {},
   "outputs": [],
   "source": [
    "df_train.reset_index(inplace=True,drop=True)"
   ]
  },
  {
   "cell_type": "code",
   "execution_count": 244,
   "id": "51dd0b1e",
   "metadata": {},
   "outputs": [
    {
     "data": {
      "text/plain": [
       "(10682, 11)"
      ]
     },
     "execution_count": 244,
     "metadata": {},
     "output_type": "execute_result"
    }
   ],
   "source": [
    "df_train.shape"
   ]
  },
  {
   "cell_type": "markdown",
   "id": "dfc84f98",
   "metadata": {},
   "source": [
    "# 7. Feature Generation"
   ]
  },
  {
   "cell_type": "markdown",
   "id": "5aa011a3",
   "metadata": {},
   "source": [
    "## 7.1 Data_of_journey"
   ]
  },
  {
   "cell_type": "markdown",
   "id": "c07fadb1",
   "metadata": {},
   "source": [
    "### For Train dataset"
   ]
  },
  {
   "cell_type": "code",
   "execution_count": 245,
   "id": "e5826d2e",
   "metadata": {},
   "outputs": [
    {
     "data": {
      "text/plain": [
       "0        24/03/2019\n",
       "1         1/05/2019\n",
       "2         9/06/2019\n",
       "3        12/05/2019\n",
       "4        01/03/2019\n",
       "            ...    \n",
       "10677     9/04/2019\n",
       "10678    27/04/2019\n",
       "10679    27/04/2019\n",
       "10680    01/03/2019\n",
       "10681     9/05/2019\n",
       "Name: Date_of_Journey, Length: 10682, dtype: object"
      ]
     },
     "execution_count": 245,
     "metadata": {},
     "output_type": "execute_result"
    }
   ],
   "source": [
    "df_train[\"Date_of_Journey\"]"
   ]
  },
  {
   "cell_type": "markdown",
   "id": "40312023",
   "metadata": {},
   "source": [
    "**As we can see Date of journey having date format as DD/MM/YYYY and data type as object so we would split the column into date,Month and year.**"
   ]
  },
  {
   "cell_type": "code",
   "execution_count": 246,
   "id": "48535f95",
   "metadata": {},
   "outputs": [],
   "source": [
    "df_train[\"Journey_Day\"]=pd.to_datetime(df_train.Date_of_Journey,format=\"%d/%m/%Y\").dt.day\n",
    "df_train[\"Journey_month\"]=pd.to_datetime(df_train.Date_of_Journey,format=\"%d/%m/%Y\").dt.month"
   ]
  },
  {
   "cell_type": "code",
   "execution_count": 247,
   "id": "c26e62e0",
   "metadata": {},
   "outputs": [],
   "source": [
    "df_train.drop(\"Date_of_Journey\",axis=1,inplace=True)"
   ]
  },
  {
   "cell_type": "markdown",
   "id": "ce7b053e",
   "metadata": {},
   "source": [
    "### For Test Dataset"
   ]
  },
  {
   "cell_type": "code",
   "execution_count": 248,
   "id": "2d12a285",
   "metadata": {},
   "outputs": [
    {
     "data": {
      "text/plain": [
       "0        6/06/2019\n",
       "1       12/05/2019\n",
       "2       21/05/2019\n",
       "3       21/05/2019\n",
       "4       24/06/2019\n",
       "           ...    \n",
       "2666     6/06/2019\n",
       "2667    27/03/2019\n",
       "2668     6/03/2019\n",
       "2669     6/03/2019\n",
       "2670    15/06/2019\n",
       "Name: Date_of_Journey, Length: 2671, dtype: object"
      ]
     },
     "execution_count": 248,
     "metadata": {},
     "output_type": "execute_result"
    }
   ],
   "source": [
    "df_test[\"Date_of_Journey\"]"
   ]
  },
  {
   "cell_type": "code",
   "execution_count": 249,
   "id": "f134073d",
   "metadata": {},
   "outputs": [],
   "source": [
    "df_test[\"Journey_Day\"]=pd.to_datetime(df_test.Date_of_Journey,format=\"%d/%m/%Y\").dt.day\n",
    "df_test[\"Journey_month\"]=pd.to_datetime(df_test.Date_of_Journey,format=\"%d/%m/%Y\").dt.month"
   ]
  },
  {
   "cell_type": "code",
   "execution_count": 250,
   "id": "d0758d74",
   "metadata": {},
   "outputs": [],
   "source": [
    "df_test.drop(\"Date_of_Journey\",axis=1,inplace=True)"
   ]
  },
  {
   "cell_type": "markdown",
   "id": "03ae2364",
   "metadata": {},
   "source": [
    "## 7.1.2 Deaparture Time"
   ]
  },
  {
   "cell_type": "markdown",
   "id": "418e8f71",
   "metadata": {},
   "source": [
    "### For Train Dataset"
   ]
  },
  {
   "cell_type": "code",
   "execution_count": 251,
   "id": "6138bd3d",
   "metadata": {},
   "outputs": [],
   "source": [
    "df_train[\"Dep_Hour\"]=df_train[\"Dep_Time\"].str.split(\":\").str[0]\n",
    "df_train[\"Dep_Minute\"]=df_train[\"Dep_Time\"].str.split(\":\").str[1]"
   ]
  },
  {
   "cell_type": "code",
   "execution_count": 252,
   "id": "fd1b2353",
   "metadata": {},
   "outputs": [],
   "source": [
    "df_train[\"Dep_Hour\"]=df_train[\"Dep_Hour\"].astype(int)\n",
    "df_train[\"Dep_Minute\"]=df_train[\"Dep_Minute\"].astype(int)"
   ]
  },
  {
   "cell_type": "code",
   "execution_count": 253,
   "id": "31934eec",
   "metadata": {},
   "outputs": [],
   "source": [
    "df_train.drop(\"Dep_Time\",axis=1,inplace=True)"
   ]
  },
  {
   "cell_type": "markdown",
   "id": "7d6f4bfc",
   "metadata": {},
   "source": [
    "### For Test Dataset"
   ]
  },
  {
   "cell_type": "code",
   "execution_count": 254,
   "id": "f949a8ff",
   "metadata": {},
   "outputs": [],
   "source": [
    "df_test[\"Dep_Hour\"]=df_test[\"Dep_Time\"].str.split(\":\").str[0]\n",
    "df_test[\"Dep_Minute\"]=df_test[\"Dep_Time\"].str.split(\":\").str[1]"
   ]
  },
  {
   "cell_type": "code",
   "execution_count": 255,
   "id": "94b26a3f",
   "metadata": {},
   "outputs": [],
   "source": [
    "df_test[\"Dep_Hour\"]=df_test[\"Dep_Hour\"].astype(int)\n",
    "df_test[\"Dep_Minute\"]=df_test[\"Dep_Minute\"].astype(int)"
   ]
  },
  {
   "cell_type": "code",
   "execution_count": 256,
   "id": "35595b9e",
   "metadata": {},
   "outputs": [],
   "source": [
    "df_test.drop(\"Dep_Time\",axis=1,inplace=True)"
   ]
  },
  {
   "cell_type": "markdown",
   "id": "1f377c41",
   "metadata": {},
   "source": [
    "## 7.1.3 Arrival Time"
   ]
  },
  {
   "cell_type": "markdown",
   "id": "b6bcceac",
   "metadata": {},
   "source": [
    "### For Train Dataset"
   ]
  },
  {
   "cell_type": "code",
   "execution_count": 257,
   "id": "6462cf6c",
   "metadata": {},
   "outputs": [
    {
     "data": {
      "text/plain": [
       "19:00           423\n",
       "21:00           360\n",
       "19:15           333\n",
       "16:10           154\n",
       "12:35           122\n",
       "               ... \n",
       "22:40 07 May      1\n",
       "11:10 10 Jun      1\n",
       "01:10 13 Mar      1\n",
       "00:25 10 Jun      1\n",
       "00:40 02 Mar      1\n",
       "Name: Arrival_Time, Length: 1343, dtype: int64"
      ]
     },
     "execution_count": 257,
     "metadata": {},
     "output_type": "execute_result"
    }
   ],
   "source": [
    "df_train[\"Arrival_Time\"].value_counts()"
   ]
  },
  {
   "cell_type": "code",
   "execution_count": 258,
   "id": "18acc244",
   "metadata": {},
   "outputs": [],
   "source": [
    "df_train[\"Arrival_Time\"]=df_train[\"Arrival_Time\"].str.split(\" \").str[0]\n",
    "df_train[\"Arr_Hour\"]=df_train[\"Arrival_Time\"].str.split(\":\").str[0]\n",
    "df_train[\"Arr_Minute\"]=df_train[\"Arrival_Time\"].str.split(\":\").str[1]"
   ]
  },
  {
   "cell_type": "code",
   "execution_count": 259,
   "id": "e7aa4893",
   "metadata": {},
   "outputs": [],
   "source": [
    "df_train[\"Arr_Hour\"]=df_train[\"Arr_Hour\"].astype(int)\n",
    "df_train[\"Arr_Minute\"]=df_train[\"Arr_Minute\"].astype(int)"
   ]
  },
  {
   "cell_type": "code",
   "execution_count": 260,
   "id": "dc7d057b",
   "metadata": {},
   "outputs": [],
   "source": [
    "df_train.drop(\"Arrival_Time\",axis=1,inplace=True)"
   ]
  },
  {
   "cell_type": "markdown",
   "id": "d250065e",
   "metadata": {},
   "source": [
    "### For Test Dataset"
   ]
  },
  {
   "cell_type": "code",
   "execution_count": 261,
   "id": "bc67addc",
   "metadata": {},
   "outputs": [],
   "source": [
    "df_test[\"Arrival_Time\"]=df_test[\"Arrival_Time\"].str.split(\" \").str[0]\n",
    "df_test[\"Arr_Hour\"]=df_test[\"Arrival_Time\"].str.split(\":\").str[0]\n",
    "df_test[\"Arr_Minute\"]=df_test[\"Arrival_Time\"].str.split(\":\").str[1]"
   ]
  },
  {
   "cell_type": "code",
   "execution_count": 262,
   "id": "6adb0ca6",
   "metadata": {},
   "outputs": [],
   "source": [
    "df_test[\"Arr_Hour\"]=df_test[\"Arr_Hour\"].astype(int)\n",
    "df_test[\"Arr_Minute\"]=df_test[\"Arr_Minute\"].astype(int)"
   ]
  },
  {
   "cell_type": "code",
   "execution_count": 263,
   "id": "fa04b160",
   "metadata": {},
   "outputs": [],
   "source": [
    "df_test.drop(\"Arrival_Time\",axis=1,inplace=True)"
   ]
  },
  {
   "cell_type": "markdown",
   "id": "e14bc1c1",
   "metadata": {},
   "source": [
    "## 7.1.4 Duration"
   ]
  },
  {
   "cell_type": "markdown",
   "id": "3b877bcd",
   "metadata": {},
   "source": [
    "### Train Dataset"
   ]
  },
  {
   "cell_type": "code",
   "execution_count": 264,
   "id": "19611636",
   "metadata": {},
   "outputs": [
    {
     "data": {
      "text/plain": [
       "2h 50m     550\n",
       "1h 30m     386\n",
       "2h 45m     337\n",
       "2h 55m     337\n",
       "2h 35m     329\n",
       "          ... \n",
       "31h 30m      1\n",
       "19h 50m      1\n",
       "32h 20m      1\n",
       "30h 25m      1\n",
       "3h 25m       1\n",
       "Name: Duration, Length: 368, dtype: int64"
      ]
     },
     "execution_count": 264,
     "metadata": {},
     "output_type": "execute_result"
    }
   ],
   "source": [
    "df_train[\"Duration\"].value_counts()"
   ]
  },
  {
   "cell_type": "markdown",
   "id": "47486126",
   "metadata": {},
   "source": [
    "### For Train Dataset"
   ]
  },
  {
   "cell_type": "code",
   "execution_count": 265,
   "id": "c94b4b30",
   "metadata": {},
   "outputs": [],
   "source": [
    "df_train[\"Duration\"]=df_train[\"Duration\"].str.replace(\"h\",\"*60\").str.replace(\" \",\"+\").str.replace(\"m\",\"*1\").apply(eval)"
   ]
  },
  {
   "cell_type": "code",
   "execution_count": 266,
   "id": "ecc840ec",
   "metadata": {},
   "outputs": [
    {
     "data": {
      "text/plain": [
       "0         170\n",
       "1         445\n",
       "2        1140\n",
       "3         325\n",
       "4         285\n",
       "         ... \n",
       "10677     150\n",
       "10678     155\n",
       "10679     180\n",
       "10680     160\n",
       "10681     500\n",
       "Name: Duration, Length: 10682, dtype: int64"
      ]
     },
     "execution_count": 266,
     "metadata": {},
     "output_type": "execute_result"
    }
   ],
   "source": [
    "df_train[\"Duration\"]"
   ]
  },
  {
   "cell_type": "markdown",
   "id": "f48c4498",
   "metadata": {},
   "source": [
    "### For Test Dataset"
   ]
  },
  {
   "cell_type": "code",
   "execution_count": 267,
   "id": "0cb658bf",
   "metadata": {},
   "outputs": [],
   "source": [
    "df_test[\"Duration\"]=df_test[\"Duration\"].str.replace(\"h\",\"*60\").str.replace(\" \",\"+\").str.replace(\"m\",\"*1\").apply(eval)"
   ]
  },
  {
   "cell_type": "code",
   "execution_count": 268,
   "id": "ef22c4c8",
   "metadata": {},
   "outputs": [
    {
     "data": {
      "text/plain": [
       "0        655\n",
       "1        240\n",
       "2       1425\n",
       "3        780\n",
       "4        170\n",
       "        ... \n",
       "2666    1435\n",
       "2667     155\n",
       "2668     395\n",
       "2669     915\n",
       "2670     860\n",
       "Name: Duration, Length: 2671, dtype: int64"
      ]
     },
     "execution_count": 268,
     "metadata": {},
     "output_type": "execute_result"
    }
   ],
   "source": [
    "df_test[\"Duration\"]"
   ]
  },
  {
   "cell_type": "code",
   "execution_count": 269,
   "id": "bc961a21",
   "metadata": {},
   "outputs": [
    {
     "name": "stdout",
     "output_type": "stream",
     "text": [
      "<class 'pandas.core.frame.DataFrame'>\n",
      "RangeIndex: 10682 entries, 0 to 10681\n",
      "Data columns (total 14 columns):\n",
      " #   Column           Non-Null Count  Dtype \n",
      "---  ------           --------------  ----- \n",
      " 0   Airline          10682 non-null  object\n",
      " 1   Source           10682 non-null  object\n",
      " 2   Destination      10682 non-null  object\n",
      " 3   Route            10682 non-null  object\n",
      " 4   Duration         10682 non-null  int64 \n",
      " 5   Total_Stops      10682 non-null  object\n",
      " 6   Additional_Info  10682 non-null  object\n",
      " 7   Price            10682 non-null  int64 \n",
      " 8   Journey_Day      10682 non-null  int64 \n",
      " 9   Journey_month    10682 non-null  int64 \n",
      " 10  Dep_Hour         10682 non-null  int32 \n",
      " 11  Dep_Minute       10682 non-null  int32 \n",
      " 12  Arr_Hour         10682 non-null  int32 \n",
      " 13  Arr_Minute       10682 non-null  int32 \n",
      "dtypes: int32(4), int64(4), object(6)\n",
      "memory usage: 1001.6+ KB\n"
     ]
    }
   ],
   "source": [
    "df_train.info()"
   ]
  },
  {
   "cell_type": "code",
   "execution_count": 270,
   "id": "58e5630e",
   "metadata": {},
   "outputs": [
    {
     "data": {
      "text/plain": [
       "(10682, 14)"
      ]
     },
     "execution_count": 270,
     "metadata": {},
     "output_type": "execute_result"
    }
   ],
   "source": [
    "df_train.shape"
   ]
  },
  {
   "cell_type": "code",
   "execution_count": 271,
   "id": "8ed98f42",
   "metadata": {},
   "outputs": [
    {
     "data": {
      "text/plain": [
       "(2671, 13)"
      ]
     },
     "execution_count": 271,
     "metadata": {},
     "output_type": "execute_result"
    }
   ],
   "source": [
    "df_test.shape"
   ]
  },
  {
   "cell_type": "markdown",
   "id": "e928c355",
   "metadata": {},
   "source": [
    "# 8. Feature Transformation "
   ]
  },
  {
   "cell_type": "markdown",
   "id": "fc5b5930",
   "metadata": {},
   "source": [
    "**We have seen there are categorical variable in our dataset so we will convert our catergorical variale to Numeric varibale.**"
   ]
  },
  {
   "cell_type": "markdown",
   "id": "b44ffa06",
   "metadata": {},
   "source": [
    "## 8.1 Dealing Airline columns with applying One hot encoder"
   ]
  },
  {
   "cell_type": "markdown",
   "id": "fb363138",
   "metadata": {},
   "source": [
    "### For Train Dataset"
   ]
  },
  {
   "cell_type": "code",
   "execution_count": 272,
   "id": "dc977bfa",
   "metadata": {},
   "outputs": [
    {
     "data": {
      "text/plain": [
       "Jet Airways                          3849\n",
       "IndiGo                               2053\n",
       "Air India                            1751\n",
       "Multiple carriers                    1196\n",
       "SpiceJet                              818\n",
       "Vistara                               479\n",
       "Air Asia                              319\n",
       "GoAir                                 194\n",
       "Multiple carriers Premium economy      13\n",
       "Jet Airways Business                    6\n",
       "Vistara Premium economy                 3\n",
       "Trujet                                  1\n",
       "Name: Airline, dtype: int64"
      ]
     },
     "execution_count": 272,
     "metadata": {},
     "output_type": "execute_result"
    }
   ],
   "source": [
    "df_train[\"Airline\"].value_counts()"
   ]
  },
  {
   "cell_type": "markdown",
   "id": "255e041b",
   "metadata": {},
   "source": [
    "**As we can see there are premium carrier,business class,premium economy and Trujet which ticket price would be high and have very less flights,so we would be these all into other category.**"
   ]
  },
  {
   "cell_type": "code",
   "execution_count": 273,
   "id": "5c062475",
   "metadata": {},
   "outputs": [],
   "source": [
    "df_train[\"Airline\"].replace({'Multiple carriers Premium economy':\"Other\",\n",
    "                              \"Jet Airways Business\":\"Other\",\n",
    "                              \"Vistara Premium economy\":\"Other\",\n",
    "                              \"Trujet\":\"Other\"},inplace=True)"
   ]
  },
  {
   "cell_type": "code",
   "execution_count": 274,
   "id": "070953e3",
   "metadata": {},
   "outputs": [
    {
     "data": {
      "text/plain": [
       "Jet Airways          3849\n",
       "IndiGo               2053\n",
       "Air India            1751\n",
       "Multiple carriers    1196\n",
       "SpiceJet              818\n",
       "Vistara               479\n",
       "Air Asia              319\n",
       "GoAir                 194\n",
       "Other                  23\n",
       "Name: Airline, dtype: int64"
      ]
     },
     "execution_count": 274,
     "metadata": {},
     "output_type": "execute_result"
    }
   ],
   "source": [
    "df_train[\"Airline\"].value_counts()"
   ]
  },
  {
   "cell_type": "code",
   "execution_count": 275,
   "id": "8707cd88",
   "metadata": {},
   "outputs": [],
   "source": [
    "from sklearn.preprocessing import OneHotEncoder"
   ]
  },
  {
   "cell_type": "code",
   "execution_count": 276,
   "id": "5fe7f0a1",
   "metadata": {},
   "outputs": [],
   "source": [
    "onehotencoder=OneHotEncoder()"
   ]
  },
  {
   "cell_type": "code",
   "execution_count": 277,
   "id": "44f5bdce",
   "metadata": {},
   "outputs": [],
   "source": [
    "x=onehotencoder.fit_transform(df_train.Airline.values.reshape(-1,1)).toarray()"
   ]
  },
  {
   "cell_type": "code",
   "execution_count": 278,
   "id": "a84f1d56",
   "metadata": {},
   "outputs": [],
   "source": [
    "j=df_train[\"Airline\"].value_counts()"
   ]
  },
  {
   "cell_type": "code",
   "execution_count": 279,
   "id": "19c44ff4",
   "metadata": {},
   "outputs": [],
   "source": [
    "dfOnehot=pd.DataFrame(x,columns=[\"Airline_\"+str(i)for i in j.index])"
   ]
  },
  {
   "cell_type": "code",
   "execution_count": 280,
   "id": "b2d820de",
   "metadata": {},
   "outputs": [],
   "source": [
    "df_train=pd.concat([df_train,dfOnehot],axis=1)"
   ]
  },
  {
   "cell_type": "code",
   "execution_count": 281,
   "id": "ec8ac7c1",
   "metadata": {},
   "outputs": [],
   "source": [
    "df_train.drop(\"Airline\",axis=1,inplace=True)"
   ]
  },
  {
   "cell_type": "markdown",
   "id": "07485813",
   "metadata": {},
   "source": [
    "### For Test Dataset"
   ]
  },
  {
   "cell_type": "code",
   "execution_count": 282,
   "id": "d88081b0",
   "metadata": {},
   "outputs": [
    {
     "data": {
      "text/plain": [
       "Jet Airways                          897\n",
       "IndiGo                               511\n",
       "Air India                            440\n",
       "Multiple carriers                    347\n",
       "SpiceJet                             208\n",
       "Vistara                              129\n",
       "Air Asia                              86\n",
       "GoAir                                 46\n",
       "Multiple carriers Premium economy      3\n",
       "Vistara Premium economy                2\n",
       "Jet Airways Business                   2\n",
       "Name: Airline, dtype: int64"
      ]
     },
     "execution_count": 282,
     "metadata": {},
     "output_type": "execute_result"
    }
   ],
   "source": [
    "df_test[\"Airline\"].value_counts()"
   ]
  },
  {
   "cell_type": "code",
   "execution_count": 283,
   "id": "b4b3afd9",
   "metadata": {},
   "outputs": [],
   "source": [
    "df_test[\"Airline\"].replace({'Multiple carriers Premium economy':\"Other\",\n",
    "                              \"Jet Airways Business\":\"Other\",\n",
    "                              \"Vistara Premium economy\":\"Other\"\n",
    "                           },inplace=True)"
   ]
  },
  {
   "cell_type": "code",
   "execution_count": 284,
   "id": "20d0b1d5",
   "metadata": {},
   "outputs": [],
   "source": [
    "onehotencoder=OneHotEncoder()\n",
    "x=onehotencoder.fit_transform(df_test.Airline.values.reshape(-1,1)).toarray()\n",
    "j=df_test[\"Airline\"].value_counts()\n",
    "dfOnehot=pd.DataFrame(x,columns=[\"Airline_\"+str(i)for i in j.index])\n",
    "df_test=pd.concat([df_test,dfOnehot],axis=1)"
   ]
  },
  {
   "cell_type": "code",
   "execution_count": 285,
   "id": "afa7de2f",
   "metadata": {},
   "outputs": [
    {
     "data": {
      "text/plain": [
       "Jet Airways          897\n",
       "IndiGo               511\n",
       "Air India            440\n",
       "Multiple carriers    347\n",
       "SpiceJet             208\n",
       "Vistara              129\n",
       "Air Asia              86\n",
       "GoAir                 46\n",
       "Other                  7\n",
       "Name: Airline, dtype: int64"
      ]
     },
     "execution_count": 285,
     "metadata": {},
     "output_type": "execute_result"
    }
   ],
   "source": [
    "df_test[\"Airline\"].value_counts()"
   ]
  },
  {
   "cell_type": "code",
   "execution_count": 286,
   "id": "805b860d",
   "metadata": {},
   "outputs": [],
   "source": [
    "df_test.drop(\"Airline\",axis=1,inplace=True)"
   ]
  },
  {
   "cell_type": "code",
   "execution_count": 287,
   "id": "06750f70",
   "metadata": {},
   "outputs": [
    {
     "data": {
      "text/plain": [
       "((10682, 22), (2671, 21))"
      ]
     },
     "execution_count": 287,
     "metadata": {},
     "output_type": "execute_result"
    }
   ],
   "source": [
    "df_train.shape,df_test.shape"
   ]
  },
  {
   "cell_type": "markdown",
   "id": "b62bfc8e",
   "metadata": {},
   "source": [
    "## 8.2 Dealing Source with applying OneHotEncoder "
   ]
  },
  {
   "cell_type": "code",
   "execution_count": 288,
   "id": "ca6d1e0e",
   "metadata": {},
   "outputs": [
    {
     "data": {
      "text/plain": [
       "Delhi       4536\n",
       "Kolkata     2871\n",
       "Banglore    2197\n",
       "Mumbai       697\n",
       "Chennai      381\n",
       "Name: Source, dtype: int64"
      ]
     },
     "execution_count": 288,
     "metadata": {},
     "output_type": "execute_result"
    }
   ],
   "source": [
    "df_train[\"Source\"].value_counts()"
   ]
  },
  {
   "cell_type": "markdown",
   "id": "4fed6c92",
   "metadata": {},
   "source": [
    "### For Train Dataset"
   ]
  },
  {
   "cell_type": "code",
   "execution_count": 289,
   "id": "23fb2d52",
   "metadata": {},
   "outputs": [],
   "source": [
    "onehotencoder=OneHotEncoder()\n",
    "x=onehotencoder.fit_transform(df_train.Source.values.reshape(-1,1)).toarray()\n",
    "j=df_train[\"Source\"].value_counts()\n",
    "dfOnehot=pd.DataFrame(x,columns=[\"Source_\"+str(i)for i in j.index])\n",
    "df_train=pd.concat([df_train,dfOnehot],axis=1)"
   ]
  },
  {
   "cell_type": "code",
   "execution_count": 290,
   "id": "b878894c",
   "metadata": {},
   "outputs": [],
   "source": [
    "df_train.drop(\"Source\",axis=1,inplace=True)"
   ]
  },
  {
   "cell_type": "markdown",
   "id": "0ea88cc9",
   "metadata": {},
   "source": [
    "### For Test Dataset"
   ]
  },
  {
   "cell_type": "code",
   "execution_count": 291,
   "id": "a8d4b112",
   "metadata": {},
   "outputs": [],
   "source": [
    "onehotencoder=OneHotEncoder()\n",
    "x=onehotencoder.fit_transform(df_test.Source.values.reshape(-1,1)).toarray()\n",
    "j=df_test[\"Source\"].value_counts()\n",
    "dfOnehot=pd.DataFrame(x,columns=[\"Source_\"+str(i)for i in j.index])\n",
    "df_test=pd.concat([df_test,dfOnehot],axis=1)"
   ]
  },
  {
   "cell_type": "code",
   "execution_count": 292,
   "id": "452a5e4a",
   "metadata": {},
   "outputs": [],
   "source": [
    "df_test.drop(\"Source\",axis=1,inplace=True)"
   ]
  },
  {
   "cell_type": "code",
   "execution_count": 293,
   "id": "e5eb95bb",
   "metadata": {},
   "outputs": [
    {
     "data": {
      "text/plain": [
       "((10682, 26), (2671, 25))"
      ]
     },
     "execution_count": 293,
     "metadata": {},
     "output_type": "execute_result"
    }
   ],
   "source": [
    "df_train.shape,df_test.shape"
   ]
  },
  {
   "cell_type": "markdown",
   "id": "b70e5fdb",
   "metadata": {},
   "source": [
    "## 8.3 Dealing with Total stops columns with ordinal encoder"
   ]
  },
  {
   "cell_type": "markdown",
   "id": "5fa5705f",
   "metadata": {},
   "source": [
    "**As we have seen non-stop means 0 stops and this columns data having some order so we will transform with ordinal encoder.**"
   ]
  },
  {
   "cell_type": "markdown",
   "id": "765dac1c",
   "metadata": {},
   "source": [
    "### For Train Dataset"
   ]
  },
  {
   "cell_type": "code",
   "execution_count": 294,
   "id": "7b8952ff",
   "metadata": {},
   "outputs": [
    {
     "data": {
      "text/plain": [
       "1 stop      5625\n",
       "non-stop    3491\n",
       "2 stops     1520\n",
       "3 stops       45\n",
       "4 stops        1\n",
       "Name: Total_Stops, dtype: int64"
      ]
     },
     "execution_count": 294,
     "metadata": {},
     "output_type": "execute_result"
    }
   ],
   "source": [
    "df_train[\"Total_Stops\"].value_counts()"
   ]
  },
  {
   "cell_type": "code",
   "execution_count": 295,
   "id": "b05959dd",
   "metadata": {},
   "outputs": [],
   "source": [
    "from sklearn.preprocessing import OrdinalEncoder"
   ]
  },
  {
   "cell_type": "code",
   "execution_count": 296,
   "id": "1d44f035",
   "metadata": {},
   "outputs": [],
   "source": [
    "enc=OrdinalEncoder(categories=[[\"non-stop\",\"1 stop\",\"2 stops\",\"3 stops\",\"4 stops\"]])"
   ]
  },
  {
   "cell_type": "code",
   "execution_count": 297,
   "id": "38334e8d",
   "metadata": {},
   "outputs": [],
   "source": [
    "z=enc.fit_transform(df_train.Total_Stops.values.reshape(-1,1))"
   ]
  },
  {
   "cell_type": "code",
   "execution_count": 298,
   "id": "a16927a7",
   "metadata": {},
   "outputs": [],
   "source": [
    "df_train[\"Total_Stops\"]=z"
   ]
  },
  {
   "cell_type": "code",
   "execution_count": 299,
   "id": "be699538",
   "metadata": {},
   "outputs": [
    {
     "data": {
      "text/plain": [
       "1.0    5625\n",
       "0.0    3491\n",
       "2.0    1520\n",
       "3.0      45\n",
       "4.0       1\n",
       "Name: Total_Stops, dtype: int64"
      ]
     },
     "execution_count": 299,
     "metadata": {},
     "output_type": "execute_result"
    }
   ],
   "source": [
    "df_train[\"Total_Stops\"].value_counts()"
   ]
  },
  {
   "cell_type": "markdown",
   "id": "3902d96c",
   "metadata": {},
   "source": [
    "### For Test Dataset"
   ]
  },
  {
   "cell_type": "code",
   "execution_count": 300,
   "id": "89c73b9e",
   "metadata": {},
   "outputs": [],
   "source": [
    "enc=OrdinalEncoder(categories=[[\"non-stop\",\"1 stop\",\"2 stops\",\"3 stops\",\"4 stops\"]])\n",
    "z=enc.fit_transform(df_test.Total_Stops.values.reshape(-1,1))\n",
    "df_test[\"Total_Stops\"]=z"
   ]
  },
  {
   "cell_type": "code",
   "execution_count": 301,
   "id": "7c561e09",
   "metadata": {},
   "outputs": [
    {
     "data": {
      "text/plain": [
       "1.0    1431\n",
       "0.0     849\n",
       "2.0     379\n",
       "3.0      11\n",
       "4.0       1\n",
       "Name: Total_Stops, dtype: int64"
      ]
     },
     "execution_count": 301,
     "metadata": {},
     "output_type": "execute_result"
    }
   ],
   "source": [
    "df_test[\"Total_Stops\"].value_counts()"
   ]
  },
  {
   "cell_type": "code",
   "execution_count": 302,
   "id": "578feb2e",
   "metadata": {},
   "outputs": [
    {
     "data": {
      "text/plain": [
       "((10682, 26), (2671, 25))"
      ]
     },
     "execution_count": 302,
     "metadata": {},
     "output_type": "execute_result"
    }
   ],
   "source": [
    "df_train.shape,df_test.shape"
   ]
  },
  {
   "cell_type": "markdown",
   "id": "6ced1b60",
   "metadata": {},
   "source": [
    "### 8.4 Dealing Additional Info columns with One hot encoder"
   ]
  },
  {
   "cell_type": "code",
   "execution_count": 304,
   "id": "4a6e56b9",
   "metadata": {},
   "outputs": [
    {
     "data": {
      "text/plain": [
       "No info                         8344\n",
       "In-flight meal not included     1982\n",
       "No check-in baggage included     320\n",
       "1 Long layover                    19\n",
       "Change airports                    7\n",
       "Business class                     4\n",
       "No Info                            3\n",
       "1 Short layover                    1\n",
       "Red-eye flight                     1\n",
       "2 Long layover                     1\n",
       "Name: Additional_Info, dtype: int64"
      ]
     },
     "execution_count": 304,
     "metadata": {},
     "output_type": "execute_result"
    }
   ],
   "source": [
    "df_train[\"Additional_Info\"].value_counts()"
   ]
  },
  {
   "cell_type": "code",
   "execution_count": 305,
   "id": "9de2aec8",
   "metadata": {},
   "outputs": [],
   "source": [
    "df_train[\"Additional_Info\"].replace({\"No info\":\"No_Info\",\n",
    "                              \"No Info\":\"No_Info\",\n",
    "                              \"Red-eye flight\":\"Other\",\n",
    "                              \"1 Short layover\":\"Other\",\n",
    "                            \"2 Long layover\": \"Other\",\n",
    "                            \"1 Long layover\":\"Other\"},inplace=True)"
   ]
  },
  {
   "cell_type": "code",
   "execution_count": 306,
   "id": "0ddd0a3d",
   "metadata": {},
   "outputs": [
    {
     "data": {
      "text/plain": [
       "No_Info                         8347\n",
       "In-flight meal not included     1982\n",
       "No check-in baggage included     320\n",
       "Other                             22\n",
       "Change airports                    7\n",
       "Business class                     4\n",
       "Name: Additional_Info, dtype: int64"
      ]
     },
     "execution_count": 306,
     "metadata": {},
     "output_type": "execute_result"
    }
   ],
   "source": [
    "df_train[\"Additional_Info\"].value_counts()"
   ]
  },
  {
   "cell_type": "code",
   "execution_count": 307,
   "id": "9f03ca39",
   "metadata": {},
   "outputs": [],
   "source": [
    "df_test[\"Additional_Info\"].replace({\"No info\":\"No_Info\",\n",
    "                             \"1 Long layover\":\"Other\"\n",
    "                                             },inplace=True)"
   ]
  },
  {
   "cell_type": "code",
   "execution_count": 308,
   "id": "f2dd6886",
   "metadata": {},
   "outputs": [
    {
     "data": {
      "text/plain": [
       "No_Info                         2148\n",
       "In-flight meal not included      444\n",
       "No check-in baggage included      76\n",
       "Business class                     1\n",
       "Change airports                    1\n",
       "Other                              1\n",
       "Name: Additional_Info, dtype: int64"
      ]
     },
     "execution_count": 308,
     "metadata": {},
     "output_type": "execute_result"
    }
   ],
   "source": [
    "df_test[\"Additional_Info\"].value_counts()"
   ]
  },
  {
   "cell_type": "code",
   "execution_count": 309,
   "id": "7a8d38ca",
   "metadata": {},
   "outputs": [
    {
     "data": {
      "text/plain": [
       "((10682, 26), (2671, 25))"
      ]
     },
     "execution_count": 309,
     "metadata": {},
     "output_type": "execute_result"
    }
   ],
   "source": [
    "df_train.shape,df_test.shape"
   ]
  },
  {
   "cell_type": "markdown",
   "id": "412683a3",
   "metadata": {},
   "source": [
    "### For Train Dataset"
   ]
  },
  {
   "cell_type": "code",
   "execution_count": 310,
   "id": "78707e42",
   "metadata": {},
   "outputs": [],
   "source": [
    "onehotencoder=OneHotEncoder()\n",
    "x=onehotencoder.fit_transform(df_train.Additional_Info.values.reshape(-1,1)).toarray()\n",
    "j=df_train[\"Additional_Info\"].value_counts()\n",
    "dfOnehot=pd.DataFrame(x,columns=[\"Additional_Info_\"+str(i)for i in j.index])\n",
    "df_train=pd.concat([df_train,dfOnehot],axis=1)"
   ]
  },
  {
   "cell_type": "code",
   "execution_count": 311,
   "id": "08bed9d3",
   "metadata": {},
   "outputs": [
    {
     "data": {
      "text/plain": [
       "No_Info                         8347\n",
       "In-flight meal not included     1982\n",
       "No check-in baggage included     320\n",
       "Other                             22\n",
       "Change airports                    7\n",
       "Business class                     4\n",
       "Name: Additional_Info, dtype: int64"
      ]
     },
     "execution_count": 311,
     "metadata": {},
     "output_type": "execute_result"
    }
   ],
   "source": [
    "df_train[\"Additional_Info\"].value_counts()"
   ]
  },
  {
   "cell_type": "code",
   "execution_count": 312,
   "id": "9cefe4a7",
   "metadata": {},
   "outputs": [],
   "source": [
    "df_train.drop(\"Additional_Info\",axis=1,inplace=True)"
   ]
  },
  {
   "cell_type": "markdown",
   "id": "9aaa5180",
   "metadata": {},
   "source": [
    "### For Test Dataset"
   ]
  },
  {
   "cell_type": "code",
   "execution_count": 313,
   "id": "6816c02d",
   "metadata": {},
   "outputs": [],
   "source": [
    "onehotencoder=OneHotEncoder()\n",
    "x=onehotencoder.fit_transform(df_test.Additional_Info.values.reshape(-1,1)).toarray()\n",
    "j=df_test[\"Additional_Info\"].value_counts()\n",
    "dfOnehot=pd.DataFrame(x,columns=[\"Additional_Info_\"+str(i)for i in j.index])\n",
    "df_test=pd.concat([df_test,dfOnehot],axis=1)"
   ]
  },
  {
   "cell_type": "code",
   "execution_count": 314,
   "id": "e88dc612",
   "metadata": {},
   "outputs": [
    {
     "data": {
      "text/plain": [
       "No_Info                         2148\n",
       "In-flight meal not included      444\n",
       "No check-in baggage included      76\n",
       "Business class                     1\n",
       "Change airports                    1\n",
       "Other                              1\n",
       "Name: Additional_Info, dtype: int64"
      ]
     },
     "execution_count": 314,
     "metadata": {},
     "output_type": "execute_result"
    }
   ],
   "source": [
    "df_test[\"Additional_Info\"].value_counts()"
   ]
  },
  {
   "cell_type": "code",
   "execution_count": 315,
   "id": "5b0c0e39",
   "metadata": {},
   "outputs": [],
   "source": [
    "df_test.drop(\"Additional_Info\",axis=1,inplace=True)"
   ]
  },
  {
   "cell_type": "code",
   "execution_count": 316,
   "id": "98969e74",
   "metadata": {},
   "outputs": [
    {
     "data": {
      "text/plain": [
       "((10682, 31), (2671, 30))"
      ]
     },
     "execution_count": 316,
     "metadata": {},
     "output_type": "execute_result"
    }
   ],
   "source": [
    "df_train.shape,df_test.shape"
   ]
  },
  {
   "cell_type": "markdown",
   "id": "2f1d8992",
   "metadata": {},
   "source": [
    "### 8.5 Dealing Destination columns with One hot encoder"
   ]
  },
  {
   "cell_type": "markdown",
   "id": "3136c3e9",
   "metadata": {},
   "source": [
    "### For Train Dataset"
   ]
  },
  {
   "cell_type": "code",
   "execution_count": 317,
   "id": "8705a0e2",
   "metadata": {},
   "outputs": [
    {
     "data": {
      "text/plain": [
       "Cochin       4536\n",
       "Banglore     2871\n",
       "Delhi        1265\n",
       "New Delhi     932\n",
       "Hyderabad     697\n",
       "Kolkata       381\n",
       "Name: Destination, dtype: int64"
      ]
     },
     "execution_count": 317,
     "metadata": {},
     "output_type": "execute_result"
    }
   ],
   "source": [
    "df_train[\"Destination\"].value_counts()"
   ]
  },
  {
   "cell_type": "code",
   "execution_count": 318,
   "id": "f9d5e2ee",
   "metadata": {},
   "outputs": [],
   "source": [
    "onehotencoder=OneHotEncoder()\n",
    "x=onehotencoder.fit_transform(df_train.Destination.values.reshape(-1,1)).toarray()\n",
    "j=df_train[\"Destination\"].value_counts()\n",
    "dfOnehot=pd.DataFrame(x,columns=[\"Destination\"+str(i)for i in j.index])\n",
    "df_train=pd.concat([df_train,dfOnehot],axis=1)"
   ]
  },
  {
   "cell_type": "code",
   "execution_count": 319,
   "id": "c7a78ee0",
   "metadata": {},
   "outputs": [],
   "source": [
    "df_train.drop(\"Destination\",axis=1,inplace=True)"
   ]
  },
  {
   "cell_type": "markdown",
   "id": "b116ee9b",
   "metadata": {},
   "source": [
    "### For Test Dataset"
   ]
  },
  {
   "cell_type": "code",
   "execution_count": 320,
   "id": "10c594c9",
   "metadata": {},
   "outputs": [
    {
     "data": {
      "text/plain": [
       "Cochin       1145\n",
       "Banglore      710\n",
       "Delhi         317\n",
       "New Delhi     238\n",
       "Hyderabad     186\n",
       "Kolkata        75\n",
       "Name: Destination, dtype: int64"
      ]
     },
     "execution_count": 320,
     "metadata": {},
     "output_type": "execute_result"
    }
   ],
   "source": [
    "df_test[\"Destination\"].value_counts()"
   ]
  },
  {
   "cell_type": "code",
   "execution_count": 321,
   "id": "55d521ac",
   "metadata": {},
   "outputs": [],
   "source": [
    "onehotencoder=OneHotEncoder()\n",
    "x=onehotencoder.fit_transform(df_test.Destination.values.reshape(-1,1)).toarray()\n",
    "j=df_test[\"Destination\"].value_counts()\n",
    "dfOnehot=pd.DataFrame(x,columns=[\"Destination\"+str(i)for i in j.index])\n",
    "df_test=pd.concat([df_test,dfOnehot],axis=1)"
   ]
  },
  {
   "cell_type": "code",
   "execution_count": 322,
   "id": "e3608174",
   "metadata": {},
   "outputs": [],
   "source": [
    "df_test.drop(\"Destination\",axis=1,inplace=True)"
   ]
  },
  {
   "cell_type": "code",
   "execution_count": 323,
   "id": "0a533c1a",
   "metadata": {},
   "outputs": [
    {
     "data": {
      "text/plain": [
       "((10682, 36), (2671, 35))"
      ]
     },
     "execution_count": 323,
     "metadata": {},
     "output_type": "execute_result"
    }
   ],
   "source": [
    "df_train.shape,df_test.shape"
   ]
  },
  {
   "cell_type": "markdown",
   "id": "daf6817e",
   "metadata": {},
   "source": [
    "# 9 Exploratory Data Analysis"
   ]
  },
  {
   "cell_type": "code",
   "execution_count": 328,
   "id": "9185fd9a",
   "metadata": {},
   "outputs": [
    {
     "data": {
      "text/plain": [
       "Index(['Route', 'Duration', 'Total_Stops', 'Price', 'Journey_Day',\n",
       "       'Journey_month', 'Dep_Hour', 'Dep_Minute', 'Arr_Hour', 'Arr_Minute',\n",
       "       'Airline_Jet Airways', 'Airline_IndiGo', 'Airline_Air India',\n",
       "       'Airline_Multiple carriers', 'Airline_SpiceJet', 'Airline_Vistara',\n",
       "       'Airline_Air Asia', 'Airline_GoAir', 'Airline_Other', 'Source_Delhi',\n",
       "       'Source_Kolkata', 'Source_Banglore', 'Source_Mumbai', 'Source_Chennai',\n",
       "       'Additional_Info_No_Info',\n",
       "       'Additional_Info_In-flight meal not included',\n",
       "       'Additional_Info_No check-in baggage included', 'Additional_Info_Other',\n",
       "       'Additional_Info_Change airports', 'Additional_Info_Business class',\n",
       "       'DestinationCochin', 'DestinationBanglore', 'DestinationDelhi',\n",
       "       'DestinationNew Delhi', 'DestinationHyderabad', 'DestinationKolkata'],\n",
       "      dtype='object')"
      ]
     },
     "execution_count": 328,
     "metadata": {},
     "output_type": "execute_result"
    }
   ],
   "source": [
    "df_train.columns"
   ]
  },
  {
   "cell_type": "markdown",
   "id": "488fa36d",
   "metadata": {},
   "source": [
    "## 9.1 Airline"
   ]
  },
  {
   "cell_type": "code",
   "execution_count": 329,
   "id": "d9f92f34",
   "metadata": {},
   "outputs": [
    {
     "data": {
      "image/png": "[encoded data removed]",
      "text/plain": [
       "<Figure size 1440x1080 with 8 Axes>"
      ]
     },
     "metadata": {
      "needs_background": "light"
     },
     "output_type": "display_data"
    }
   ],
   "source": [
    "col=['Airline_Jet Airways', 'Airline_IndiGo',\n",
    "       'Airline_Air India', 'Airline_Multiple carriers', 'Airline_SpiceJet',\n",
    "       'Airline_Vistara', 'Airline_Air Asia', 'Airline_GoAir', 'Airline_Other']\n",
    "plt.figure(figsize=(20,15))\n",
    "plotnumber=1\n",
    "for i in col:\n",
    "    if plotnumber <9:\n",
    "        ax=plt.subplot(3,3,plotnumber)\n",
    "        s=sns.countplot(df_train[i])\n",
    "        for p in s.patches:\n",
    "            s.annotate(int(p.get_height()),(p.get_x()+0.30,p.get_height()+1),va=\"bottom\",color=\"black\")\n",
    "    plotnumber+=1\n",
    "plt.tight_layout()\n",
    "    "
   ]
  },
  {
   "cell_type": "markdown",
   "id": "fc1ccef4",
   "metadata": {},
   "source": [
    "## 9.2 Source"
   ]
  },
  {
   "cell_type": "code",
   "execution_count": 330,
   "id": "a87e82f8",
   "metadata": {},
   "outputs": [
    {
     "data": {
      "image/png": "[encoded data removed]",
      "text/plain": [
       "<Figure size 1440x1080 with 5 Axes>"
      ]
     },
     "metadata": {
      "needs_background": "light"
     },
     "output_type": "display_data"
    }
   ],
   "source": [
    "col=['Source_Delhi', 'Source_Kolkata', 'Source_Banglore', 'Source_Mumbai',\n",
    "       'Source_Chennai']\n",
    "plt.figure(figsize=(20,15))\n",
    "plotnumber=1\n",
    "for i in col:\n",
    "    if plotnumber <6:\n",
    "        ax=plt.subplot(3,2,plotnumber)\n",
    "        s=sns.countplot(df_train[i])\n",
    "        for p in s.patches:\n",
    "            s.annotate(int(p.get_height()),(p.get_x()+0.30,p.get_height()+1),va=\"bottom\",color=\"black\")\n",
    "    plotnumber+=1\n",
    "plt.tight_layout()\n",
    "    "
   ]
  },
  {
   "cell_type": "markdown",
   "id": "4f56c235",
   "metadata": {},
   "source": [
    "## 9.3 Total Stops"
   ]
  },
  {
   "cell_type": "code",
   "execution_count": 331,
   "id": "18c7550d",
   "metadata": {},
   "outputs": [
    {
     "data": {
      "text/plain": [
       "<AxesSubplot:xlabel='Total_Stops', ylabel='Price'>"
      ]
     },
     "execution_count": 331,
     "metadata": {},
     "output_type": "execute_result"
    },
    {
     "data": {
      "image/png": "[encoded data removed]",
      "text/plain": [
       "<Figure size 432x288 with 1 Axes>"
      ]
     },
     "metadata": {
      "needs_background": "light"
     },
     "output_type": "display_data"
    }
   ],
   "source": [
    "sns.scatterplot(x=\"Total_Stops\",y=\"Price\",data=df_train)"
   ]
  },
  {
   "cell_type": "markdown",
   "id": "c649da2c",
   "metadata": {},
   "source": [
    "## 9.4 Additional Info"
   ]
  },
  {
   "cell_type": "code",
   "execution_count": 332,
   "id": "dd3694af",
   "metadata": {},
   "outputs": [
    {
     "data": {
      "image/png": "[encoded data removed]",
      "text/plain": [
       "<Figure size 1440x1080 with 5 Axes>"
      ]
     },
     "metadata": {
      "needs_background": "light"
     },
     "output_type": "display_data"
    }
   ],
   "source": [
    "col=['Additional_Info_No_Info',\n",
    "       'Additional_Info_In-flight meal not included',\n",
    "       'Additional_Info_No check-in baggage included', 'Additional_Info_Other',\n",
    "       'Additional_Info_Change airports', 'Additional_Info_Business class']\n",
    "plt.figure(figsize=(20,15))\n",
    "plotnumber=1\n",
    "for i in col:\n",
    "    if plotnumber <6:\n",
    "        ax=plt.subplot(3,2,plotnumber)\n",
    "        s=sns.countplot(df_train[i])\n",
    "        for p in s.patches:\n",
    "            s.annotate(int(p.get_height()),(p.get_x()+0.30,p.get_height()+1),va=\"bottom\",color=\"black\")\n",
    "    plotnumber+=1\n",
    "plt.tight_layout()\n",
    "    "
   ]
  },
  {
   "cell_type": "markdown",
   "id": "97413202",
   "metadata": {},
   "source": [
    "## 9.5 Destination"
   ]
  },
  {
   "cell_type": "code",
   "execution_count": 333,
   "id": "7edc18e8",
   "metadata": {},
   "outputs": [
    {
     "data": {
      "image/png": "[encoded data removed]",
      "text/plain": [
       "<Figure size 1440x1080 with 5 Axes>"
      ]
     },
     "metadata": {
      "needs_background": "light"
     },
     "output_type": "display_data"
    }
   ],
   "source": [
    "col=['DestinationCochin', 'DestinationBanglore', 'DestinationDelhi',\n",
    "       'DestinationNew Delhi', 'DestinationHyderabad', 'DestinationKolkata']\n",
    "plt.figure(figsize=(20,15))\n",
    "plotnumber=1\n",
    "for i in col:\n",
    "    if plotnumber <6:\n",
    "        ax=plt.subplot(3,2,plotnumber)\n",
    "        s=sns.countplot(df_train[i])\n",
    "        for p in s.patches:\n",
    "            s.annotate(int(p.get_height()),(p.get_x()+0.30,p.get_height()+1),va=\"bottom\",color=\"black\")\n",
    "    plotnumber+=1\n",
    "plt.tight_layout()\n",
    "    "
   ]
  },
  {
   "cell_type": "markdown",
   "id": "9c5d4318",
   "metadata": {},
   "source": [
    "## 9.6 Duration"
   ]
  },
  {
   "cell_type": "code",
   "execution_count": 334,
   "id": "4789a664",
   "metadata": {},
   "outputs": [
    {
     "data": {
      "text/plain": [
       "<AxesSubplot:xlabel='Duration', ylabel='Density'>"
      ]
     },
     "execution_count": 334,
     "metadata": {},
     "output_type": "execute_result"
    },
    {
     "data": {
      "image/png": "[encoded data removed]",
      "text/plain": [
       "<Figure size 432x288 with 1 Axes>"
      ]
     },
     "metadata": {
      "needs_background": "light"
     },
     "output_type": "display_data"
    }
   ],
   "source": [
    "sns.distplot(df_train[\"Duration\"])"
   ]
  },
  {
   "cell_type": "markdown",
   "id": "70d8facf",
   "metadata": {},
   "source": [
    "## 9.7 Journey_month"
   ]
  },
  {
   "cell_type": "code",
   "execution_count": 335,
   "id": "7b24531e",
   "metadata": {},
   "outputs": [
    {
     "data": {
      "image/png": "[encoded data removed]",
      "text/plain": [
       "<Figure size 432x288 with 1 Axes>"
      ]
     },
     "metadata": {
      "needs_background": "light"
     },
     "output_type": "display_data"
    }
   ],
   "source": [
    "s=sns.countplot(df_train[\"Journey_month\"])\n",
    "for p in s.patches:\n",
    "            s.annotate(int(p.get_height()),(p.get_x()+0.30,p.get_height()+1),va=\"bottom\",color=\"black\")"
   ]
  },
  {
   "cell_type": "markdown",
   "id": "304d0905",
   "metadata": {},
   "source": [
    "## 9.8 Departure Hour"
   ]
  },
  {
   "cell_type": "code",
   "execution_count": 336,
   "id": "4acd1007",
   "metadata": {},
   "outputs": [
    {
     "data": {
      "image/png": "[encoded data removed]",
      "text/plain": [
       "<Figure size 432x288 with 1 Axes>"
      ]
     },
     "metadata": {
      "needs_background": "light"
     },
     "output_type": "display_data"
    }
   ],
   "source": [
    "s=sns.countplot(df_train[\"Dep_Hour\"])\n",
    "for p in s.patches:\n",
    "            s.annotate(int(p.get_height()),(p.get_x()+0.30,p.get_height()+1),va=\"bottom\",color=\"black\")"
   ]
  },
  {
   "cell_type": "markdown",
   "id": "5d6f8ece",
   "metadata": {},
   "source": [
    "## 9.9 Arrival Hour"
   ]
  },
  {
   "cell_type": "code",
   "execution_count": 337,
   "id": "c5b4e5e8",
   "metadata": {},
   "outputs": [
    {
     "data": {
      "image/png": "[encoded data removed]",
      "text/plain": [
       "<Figure size 432x288 with 1 Axes>"
      ]
     },
     "metadata": {
      "needs_background": "light"
     },
     "output_type": "display_data"
    }
   ],
   "source": [
    "s=sns.countplot(df_train[\"Arr_Hour\"])\n",
    "for p in s.patches:\n",
    "            s.annotate(int(p.get_height()),(p.get_x()+0.30,p.get_height()+1),va=\"bottom\",color=\"black\")"
   ]
  },
  {
   "cell_type": "markdown",
   "id": "48a6c444",
   "metadata": {},
   "source": [
    "## 9.10 Price"
   ]
  },
  {
   "cell_type": "code",
   "execution_count": 339,
   "id": "e56ef24e",
   "metadata": {},
   "outputs": [
    {
     "data": {
      "text/plain": [
       "<AxesSubplot:xlabel='Price', ylabel='Density'>"
      ]
     },
     "execution_count": 339,
     "metadata": {},
     "output_type": "execute_result"
    },
    {
     "data": {
      "image/png": "[encoded data removed]",
      "text/plain": [
       "<Figure size 432x288 with 1 Axes>"
      ]
     },
     "metadata": {
      "needs_background": "light"
     },
     "output_type": "display_data"
    }
   ],
   "source": [
    "sns.distplot(df_train[\"Price\"])"
   ]
  },
  {
   "cell_type": "markdown",
   "id": "00044c22",
   "metadata": {},
   "source": [
    "## 9.11 Duration Vs Price"
   ]
  },
  {
   "cell_type": "code",
   "execution_count": 107,
   "id": "0266c99e",
   "metadata": {},
   "outputs": [
    {
     "data": {
      "text/plain": [
       "<AxesSubplot:xlabel='Duration', ylabel='Price'>"
      ]
     },
     "execution_count": 107,
     "metadata": {},
     "output_type": "execute_result"
    },
    {
     "data": {
      "image/png": "[encoded data removed]",
      "text/plain": [
       "<Figure size 432x288 with 1 Axes>"
      ]
     },
     "metadata": {
      "needs_background": "light"
     },
     "output_type": "display_data"
    }
   ],
   "source": [
    "sns.scatterplot(x=\"Duration\",y=\"Price\",data=df_train)"
   ]
  },
  {
   "cell_type": "markdown",
   "id": "d75a8f46",
   "metadata": {},
   "source": [
    "## 9.12 Journey_month Vs Price"
   ]
  },
  {
   "cell_type": "code",
   "execution_count": 340,
   "id": "d8d60fb8",
   "metadata": {},
   "outputs": [
    {
     "data": {
      "text/plain": [
       "<AxesSubplot:xlabel='Journey_month', ylabel='Price'>"
      ]
     },
     "execution_count": 340,
     "metadata": {},
     "output_type": "execute_result"
    },
    {
     "data": {
      "image/png": "[encoded data removed]",
      "text/plain": [
       "<Figure size 432x288 with 1 Axes>"
      ]
     },
     "metadata": {
      "needs_background": "light"
     },
     "output_type": "display_data"
    }
   ],
   "source": [
    "sns.scatterplot(x=\"Journey_month\",y=\"Price\",data=df_train)"
   ]
  },
  {
   "cell_type": "markdown",
   "id": "4f669340",
   "metadata": {},
   "source": [
    "## 9.13 Dep_Hour Vs Price"
   ]
  },
  {
   "cell_type": "code",
   "execution_count": 341,
   "id": "237cdc99",
   "metadata": {},
   "outputs": [
    {
     "data": {
      "text/plain": [
       "<AxesSubplot:xlabel='Dep_Hour', ylabel='Price'>"
      ]
     },
     "execution_count": 341,
     "metadata": {},
     "output_type": "execute_result"
    },
    {
     "data": {
      "image/png": "[encoded data removed]",
      "text/plain": [
       "<Figure size 432x288 with 1 Axes>"
      ]
     },
     "metadata": {
      "needs_background": "light"
     },
     "output_type": "display_data"
    }
   ],
   "source": [
    "sns.scatterplot(x=\"Dep_Hour\",y=\"Price\",data=df_train)"
   ]
  },
  {
   "cell_type": "markdown",
   "id": "2382c31c",
   "metadata": {},
   "source": [
    "## 9.14 Arr_Hour Vs Price"
   ]
  },
  {
   "cell_type": "code",
   "execution_count": 342,
   "id": "ddc87860",
   "metadata": {},
   "outputs": [
    {
     "data": {
      "text/plain": [
       "<AxesSubplot:xlabel='Arr_Hour', ylabel='Price'>"
      ]
     },
     "execution_count": 342,
     "metadata": {},
     "output_type": "execute_result"
    },
    {
     "data": {
      "image/png": "[encoded data removed]",
      "text/plain": [
       "<Figure size 432x288 with 1 Axes>"
      ]
     },
     "metadata": {
      "needs_background": "light"
     },
     "output_type": "display_data"
    }
   ],
   "source": [
    "sns.scatterplot(x=\"Arr_Hour\",y=\"Price\",data=df_train)"
   ]
  },
  {
   "cell_type": "markdown",
   "id": "567f2bd8",
   "metadata": {},
   "source": [
    "## 9.15 Airline Vs Price"
   ]
  },
  {
   "cell_type": "code",
   "execution_count": 344,
   "id": "40802124",
   "metadata": {},
   "outputs": [
    {
     "data": {
      "text/plain": [
       "<AxesSubplot:xlabel='Airline_Other', ylabel='Price'>"
      ]
     },
     "execution_count": 344,
     "metadata": {},
     "output_type": "execute_result"
    },
    {
     "data": {
      "image/png": "[encoded data removed]",
      "text/plain": [
       "<Figure size 1440x1080 with 9 Axes>"
      ]
     },
     "metadata": {
      "needs_background": "light"
     },
     "output_type": "display_data"
    }
   ],
   "source": [
    "fig,axs=plt.subplots(3,3,sharey=True)\n",
    "df_train.plot(kind=\"scatter\",x=\"Airline_Jet Airways\",y=\"Price\",ax=axs[0,0],figsize=(20,15),color=\"r\",marker=\"+\")\n",
    "df_train.plot(kind=\"scatter\",x=\"Airline_IndiGo\",y=\"Price\",ax=axs[0,1],color=\"g\",marker=\"*\")\n",
    "df_train.plot(kind=\"scatter\",x=\"Airline_Air India\",y=\"Price\",ax=axs[0,2])\n",
    "df_train.plot(kind=\"scatter\",x=\"Airline_Multiple carriers\",y=\"Price\",ax=axs[1,0],color=\"r\",marker=\"+\")\n",
    "df_train.plot(kind=\"scatter\",x=\"Airline_SpiceJet\",y=\"Price\",ax=axs[1,1],color=\"g\",marker=\"*\")\n",
    "df_train.plot(kind=\"scatter\",x=\"Airline_Vistara\",y=\"Price\",ax=axs[1,2])\n",
    "df_train.plot(kind=\"scatter\",x=\"Airline_Air Asia\",y=\"Price\",ax=axs[2,0],color=\"r\",marker=\"+\")\n",
    "df_train.plot(kind=\"scatter\",x=\"Airline_GoAir\",y=\"Price\",ax=axs[2,1],color=\"g\",marker=\"*\")\n",
    "df_train.plot(kind=\"scatter\",x=\"Airline_Other\",y=\"Price\",ax=axs[2,2])\n"
   ]
  },
  {
   "cell_type": "markdown",
   "id": "3a5e465f",
   "metadata": {},
   "source": [
    "## 9.16 Source Vs Price"
   ]
  },
  {
   "cell_type": "code",
   "execution_count": 112,
   "id": "a61e2ddb",
   "metadata": {},
   "outputs": [
    {
     "data": {
      "text/plain": [
       "<AxesSubplot:xlabel='Source_Chennai', ylabel='Price'>"
      ]
     },
     "execution_count": 112,
     "metadata": {},
     "output_type": "execute_result"
    },
    {
     "data": {
      "image/png": "[encoded data removed]",
      "text/plain": [
       "<Figure size 1440x360 with 5 Axes>"
      ]
     },
     "metadata": {
      "needs_background": "light"
     },
     "output_type": "display_data"
    }
   ],
   "source": [
    "fig,axs=plt.subplots(1,5,sharey=True)\n",
    "df_train.plot(kind=\"scatter\",x=\"Source_Delhi\",y=\"Price\",ax=axs[0],figsize=(20,5),color=\"r\",marker=\"+\")\n",
    "df_train.plot(kind=\"scatter\",x=\"Source_Kolkata\",y=\"Price\",ax=axs[1],color=\"g\",marker=\"*\")\n",
    "df_train.plot(kind=\"scatter\",x=\"Source_Banglore\",y=\"Price\",ax=axs[2],color=\"b\",marker=\".\")\n",
    "df_train.plot(kind=\"scatter\",x=\"Source_Mumbai\",y=\"Price\",ax=axs[3],color=\"y\",marker=\",\")\n",
    "df_train.plot(kind=\"scatter\",x=\"Source_Chennai\",y=\"Price\",ax=axs[4])"
   ]
  },
  {
   "cell_type": "markdown",
   "id": "b2fc7ef1",
   "metadata": {},
   "source": [
    "## 9.17 Additional info Vs price"
   ]
  },
  {
   "cell_type": "code",
   "execution_count": 345,
   "id": "0af53aa7",
   "metadata": {},
   "outputs": [
    {
     "data": {
      "text/plain": [
       "<AxesSubplot:xlabel='Additional_Info_Business class', ylabel='Price'>"
      ]
     },
     "execution_count": 345,
     "metadata": {},
     "output_type": "execute_result"
    },
    {
     "data": {
      "image/png": "[encoded data removed]",
      "text/plain": [
       "<Figure size 1440x1080 with 6 Axes>"
      ]
     },
     "metadata": {
      "needs_background": "light"
     },
     "output_type": "display_data"
    }
   ],
   "source": [
    "fig,axs=plt.subplots(2,3,sharey=True)\n",
    "df_train.plot(kind=\"scatter\",x=\"Additional_Info_No_Info\",y=\"Price\",ax=axs[0,0],figsize=(20,15),color=\"r\",marker=\"+\")\n",
    "df_train.plot(kind=\"scatter\",x=\"Additional_Info_In-flight meal not included\",y=\"Price\",ax=axs[0,1],color=\"g\",marker=\"*\")\n",
    "df_train.plot(kind=\"scatter\",x=\"Additional_Info_No check-in baggage included\",y=\"Price\",ax=axs[0,2])\n",
    "df_train.plot(kind=\"scatter\",x=\"Additional_Info_Other\",y=\"Price\",ax=axs[1,0],color=\"r\",marker=\"+\")\n",
    "df_train.plot(kind=\"scatter\",x=\"Additional_Info_Change airports\",y=\"Price\",ax=axs[1,1],color=\"g\",marker=\"*\")\n",
    "df_train.plot(kind=\"scatter\",x=\"Additional_Info_Business class\",y=\"Price\",ax=axs[1,2])\n"
   ]
  },
  {
   "cell_type": "markdown",
   "id": "63bf7c3e",
   "metadata": {},
   "source": [
    "# 10. Dropping the unwanted columns"
   ]
  },
  {
   "cell_type": "markdown",
   "id": "644e925e",
   "metadata": {},
   "source": [
    "**As we have seen route columns having the city name and their route of flight, which we are getting same informtion from Total_Stops feature, so we will drop this columns.**"
   ]
  },
  {
   "cell_type": "code",
   "execution_count": 346,
   "id": "baeac2ba",
   "metadata": {},
   "outputs": [
    {
     "data": {
      "text/plain": [
       "Index(['Route', 'Duration', 'Total_Stops', 'Price', 'Journey_Day',\n",
       "       'Journey_month', 'Dep_Hour', 'Dep_Minute', 'Arr_Hour', 'Arr_Minute',\n",
       "       'Airline_Jet Airways', 'Airline_IndiGo', 'Airline_Air India',\n",
       "       'Airline_Multiple carriers', 'Airline_SpiceJet', 'Airline_Vistara',\n",
       "       'Airline_Air Asia', 'Airline_GoAir', 'Airline_Other', 'Source_Delhi',\n",
       "       'Source_Kolkata', 'Source_Banglore', 'Source_Mumbai', 'Source_Chennai',\n",
       "       'Additional_Info_No_Info',\n",
       "       'Additional_Info_In-flight meal not included',\n",
       "       'Additional_Info_No check-in baggage included', 'Additional_Info_Other',\n",
       "       'Additional_Info_Change airports', 'Additional_Info_Business class',\n",
       "       'DestinationCochin', 'DestinationBanglore', 'DestinationDelhi',\n",
       "       'DestinationNew Delhi', 'DestinationHyderabad', 'DestinationKolkata'],\n",
       "      dtype='object')"
      ]
     },
     "execution_count": 346,
     "metadata": {},
     "output_type": "execute_result"
    }
   ],
   "source": [
    "df_train.columns"
   ]
  },
  {
   "cell_type": "markdown",
   "id": "d523322b",
   "metadata": {},
   "source": [
    "### From Training Dataset"
   ]
  },
  {
   "cell_type": "code",
   "execution_count": 347,
   "id": "d0866553",
   "metadata": {},
   "outputs": [],
   "source": [
    "df_train.drop(\"Route\",axis=1,inplace=True)"
   ]
  },
  {
   "cell_type": "markdown",
   "id": "24fbc7f3",
   "metadata": {},
   "source": [
    "### From Testing Dataset"
   ]
  },
  {
   "cell_type": "code",
   "execution_count": 348,
   "id": "a3bb7b06",
   "metadata": {},
   "outputs": [],
   "source": [
    "df_test.drop(\"Route\",axis=1,inplace=True)"
   ]
  },
  {
   "cell_type": "code",
   "execution_count": 349,
   "id": "db68f224",
   "metadata": {},
   "outputs": [
    {
     "data": {
      "text/plain": [
       "((10682, 35), (2671, 34))"
      ]
     },
     "execution_count": 349,
     "metadata": {},
     "output_type": "execute_result"
    }
   ],
   "source": [
    "df_train.shape, df_test.shape"
   ]
  },
  {
   "cell_type": "markdown",
   "id": "61da11bd",
   "metadata": {},
   "source": [
    "# 11. Splitting Dataset into training and testing"
   ]
  },
  {
   "cell_type": "code",
   "execution_count": 350,
   "id": "f3542940",
   "metadata": {},
   "outputs": [],
   "source": [
    "x=df_train.drop(\"Price\",axis=1)"
   ]
  },
  {
   "cell_type": "code",
   "execution_count": 351,
   "id": "a2bd70bb",
   "metadata": {},
   "outputs": [],
   "source": [
    "y=df_train.Price"
   ]
  },
  {
   "cell_type": "code",
   "execution_count": 352,
   "id": "dbd4a89a",
   "metadata": {},
   "outputs": [
    {
     "data": {
      "text/plain": [
       "(10682, 34)"
      ]
     },
     "execution_count": 352,
     "metadata": {},
     "output_type": "execute_result"
    }
   ],
   "source": [
    "x.shape"
   ]
  },
  {
   "cell_type": "code",
   "execution_count": 353,
   "id": "4b38be83",
   "metadata": {},
   "outputs": [
    {
     "data": {
      "text/plain": [
       "(10682,)"
      ]
     },
     "execution_count": 353,
     "metadata": {},
     "output_type": "execute_result"
    }
   ],
   "source": [
    "y.shape"
   ]
  },
  {
   "cell_type": "markdown",
   "id": "4196a69a",
   "metadata": {},
   "source": [
    "# 12. Scaling Transformation with Standard Scaler"
   ]
  },
  {
   "cell_type": "code",
   "execution_count": 354,
   "id": "88072420",
   "metadata": {},
   "outputs": [],
   "source": [
    "from sklearn.preprocessing import StandardScaler"
   ]
  },
  {
   "cell_type": "code",
   "execution_count": 355,
   "id": "263eef06",
   "metadata": {},
   "outputs": [],
   "source": [
    "scaler=StandardScaler()"
   ]
  },
  {
   "cell_type": "code",
   "execution_count": 356,
   "id": "38cc4e1e",
   "metadata": {},
   "outputs": [],
   "source": [
    "x_scaled=scaler.fit_transform(x)"
   ]
  },
  {
   "cell_type": "code",
   "execution_count": 357,
   "id": "056d24ff",
   "metadata": {},
   "outputs": [
    {
     "data": {
      "text/plain": [
       "(10682, 34)"
      ]
     },
     "execution_count": 357,
     "metadata": {},
     "output_type": "execute_result"
    }
   ],
   "source": [
    "x_scaled.shape"
   ]
  },
  {
   "cell_type": "markdown",
   "id": "4b187c2c",
   "metadata": {},
   "source": [
    "# Model Building"
   ]
  },
  {
   "cell_type": "markdown",
   "id": "d32952d5",
   "metadata": {},
   "source": [
    "## 13.1 Linear Regression"
   ]
  },
  {
   "cell_type": "code",
   "execution_count": 358,
   "id": "b43740b3",
   "metadata": {},
   "outputs": [],
   "source": [
    "from sklearn.linear_model import LinearRegression\n",
    "from sklearn.model_selection import train_test_split\n",
    "from sklearn.metrics import mean_absolute_error,mean_squared_error,r2_score"
   ]
  },
  {
   "cell_type": "code",
   "execution_count": 359,
   "id": "24598486",
   "metadata": {},
   "outputs": [],
   "source": [
    "lr=LinearRegression()"
   ]
  },
  {
   "cell_type": "code",
   "execution_count": 360,
   "id": "bfda6b55",
   "metadata": {},
   "outputs": [],
   "source": [
    "x_train,x_test,y_train,y_test=train_test_split(x_scaled,y,test_size=0.30,random_state=101)"
   ]
  },
  {
   "cell_type": "markdown",
   "id": "19b9d1cd",
   "metadata": {},
   "source": [
    "## 13.2 Choosing best random state"
   ]
  },
  {
   "cell_type": "code",
   "execution_count": 1689,
   "id": "6f8eebdd",
   "metadata": {},
   "outputs": [
    {
     "name": "stdout",
     "output_type": "stream",
     "text": [
      "At random state 1 Model perfrom well\n",
      "At random state 1\n",
      "Training score is- 67.2595739846048\n",
      "Testing score is- 67.32223701057659\n",
      "At random state 64 Model perfrom well\n",
      "At random state 64\n",
      "Training score is- 67.14538748995149\n",
      "Testing score is- 67.1084401597799\n",
      "At random state 345 Model perfrom well\n",
      "At random state 345\n",
      "Training score is- 67.23312426738026\n",
      "Testing score is- 67.19900730799633\n",
      "At random state 346 Model perfrom well\n",
      "At random state 346\n",
      "Training score is- 67.26917130174957\n",
      "Testing score is- 67.29019579392055\n"
     ]
    }
   ],
   "source": [
    "from sklearn.metrics import r2_score\n",
    "for i in range(0,500):\n",
    "    x_train,x_test,y_train,y_test=train_test_split(x_scaled,y,test_size=0.30,random_state=i)\n",
    "    lr.fit(x_train,y_train)\n",
    "    pred_train=lr.predict(x_train)\n",
    "    pred_test=lr.predict(x_test)\n",
    "    \n",
    "    if round(r2_score(y_train,pred_train)*100,1)==round(r2_score(y_test,pred_test)*100,1):\n",
    "        print(\"At random state\",i,\"Model perfrom well\")\n",
    "        print(\"At random state\",i)\n",
    "        print(\"Training score is-\",r2_score(y_train,pred_train)*100)\n",
    "        print(\"Testing score is-\",r2_score(y_test,pred_test)*100)\n",
    "   "
   ]
  },
  {
   "cell_type": "markdown",
   "id": "62b8a4e7",
   "metadata": {},
   "source": [
    "**we can choose random state 346.**"
   ]
  },
  {
   "cell_type": "code",
   "execution_count": 363,
   "id": "b066938a",
   "metadata": {},
   "outputs": [],
   "source": [
    "x_train,x_test,y_train,y_test=train_test_split(x_scaled,y,test_size=0.30,random_state=346)"
   ]
  },
  {
   "cell_type": "code",
   "execution_count": 364,
   "id": "2688e38a",
   "metadata": {},
   "outputs": [
    {
     "data": {
      "text/plain": [
       "LinearRegression()"
      ]
     },
     "execution_count": 364,
     "metadata": {},
     "output_type": "execute_result"
    }
   ],
   "source": [
    "lr.fit(x_train,y_train)"
   ]
  },
  {
   "cell_type": "markdown",
   "id": "45f42673",
   "metadata": {},
   "source": [
    "## 13.3 Evaluation Matrix"
   ]
  },
  {
   "cell_type": "code",
   "execution_count": 365,
   "id": "871f5d92",
   "metadata": {},
   "outputs": [],
   "source": [
    "y_pred=lr.predict(x_test)"
   ]
  },
  {
   "cell_type": "code",
   "execution_count": 366,
   "id": "50af5c53",
   "metadata": {},
   "outputs": [],
   "source": [
    "lr_score=r2_score(y_test,y_pred)"
   ]
  },
  {
   "cell_type": "code",
   "execution_count": 367,
   "id": "ec636faa",
   "metadata": {},
   "outputs": [
    {
     "data": {
      "text/plain": [
       "0.6729019579392055"
      ]
     },
     "execution_count": 367,
     "metadata": {},
     "output_type": "execute_result"
    }
   ],
   "source": [
    "lr_score"
   ]
  },
  {
   "cell_type": "code",
   "execution_count": 368,
   "id": "cee98015",
   "metadata": {},
   "outputs": [],
   "source": [
    "MAE=mean_absolute_error(y_test,y_pred)"
   ]
  },
  {
   "cell_type": "code",
   "execution_count": 369,
   "id": "c2333825",
   "metadata": {},
   "outputs": [
    {
     "data": {
      "text/plain": [
       "1821.6515498872177"
      ]
     },
     "execution_count": 369,
     "metadata": {},
     "output_type": "execute_result"
    }
   ],
   "source": [
    "MAE"
   ]
  },
  {
   "cell_type": "code",
   "execution_count": 370,
   "id": "ebd7fd47",
   "metadata": {},
   "outputs": [],
   "source": [
    "RMSE=np.sqrt(mean_squared_error(y_test,y_pred))"
   ]
  },
  {
   "cell_type": "code",
   "execution_count": 371,
   "id": "342305e5",
   "metadata": {},
   "outputs": [
    {
     "data": {
      "text/plain": [
       "2665.7295173300304"
      ]
     },
     "execution_count": 371,
     "metadata": {},
     "output_type": "execute_result"
    }
   ],
   "source": [
    "RMSE"
   ]
  },
  {
   "cell_type": "code",
   "execution_count": 372,
   "id": "8a67b2a5",
   "metadata": {},
   "outputs": [],
   "source": [
    "train_pred=lr.predict(x_train)"
   ]
  },
  {
   "cell_type": "code",
   "execution_count": 373,
   "id": "c467b89e",
   "metadata": {},
   "outputs": [
    {
     "data": {
      "text/plain": [
       "0.6726917130174956"
      ]
     },
     "execution_count": 373,
     "metadata": {},
     "output_type": "execute_result"
    }
   ],
   "source": [
    "r2_score(y_train,train_pred)"
   ]
  },
  {
   "cell_type": "markdown",
   "id": "f6c33dbe",
   "metadata": {},
   "source": [
    "## 13.4 Choosing the best CV"
   ]
  },
  {
   "cell_type": "code",
   "execution_count": 140,
   "id": "5e65be67",
   "metadata": {},
   "outputs": [],
   "source": [
    "from sklearn.model_selection import cross_val_score"
   ]
  },
  {
   "cell_type": "code",
   "execution_count": 1705,
   "id": "acedafb5",
   "metadata": {},
   "outputs": [
    {
     "name": "stdout",
     "output_type": "stream",
     "text": [
      "AT CV :- 2\n",
      "Cross Validation score is: [67.28908129 66.75156889]\n",
      "R2_score: 67.0203250902057\n",
      "\n",
      "\n",
      "AT CV :- 3\n",
      "Cross Validation score is: [65.87907456 67.17655096 66.72141778]\n",
      "R2_score: 66.5923477674724\n",
      "\n",
      "\n",
      "AT CV :- 4\n",
      "Cross Validation score is: [63.67672416 71.06235114 65.78736697 67.78286061]\n",
      "R2_score: 67.0773257209751\n",
      "\n",
      "\n",
      "AT CV :- 5\n",
      "Cross Validation score is: [63.95688584 69.50231197 66.95807054 65.95829475 68.04124351]\n",
      "R2_score: 66.88336132274809\n",
      "\n",
      "\n",
      "AT CV :- 6\n",
      "Cross Validation score is: [64.10190899 67.65243483 70.29857    65.25439176 66.36600722 68.02270508]\n",
      "R2_score: 66.94933631412408\n",
      "\n",
      "\n",
      "AT CV :- 7\n",
      "Cross Validation score is: [62.97505058 67.35315758 70.72781288 66.83809742 65.95640594 67.36106019\n",
      " 67.9307711 ]\n",
      "R2_score: 67.02033652642196\n",
      "\n",
      "\n",
      "AT CV :- 8\n",
      "Cross Validation score is: [64.74031339 62.63676566 72.1826379  68.96953219 66.10527084 64.71442324\n",
      " 66.85255281 68.32232949]\n",
      "R2_score: 66.8154781913387\n",
      "\n",
      "\n",
      "AT CV :- 9\n",
      "Cross Validation score is: [64.18318456 63.72129832 69.35056844 70.07884144 67.78378452 65.57580508\n",
      " 65.41421717 67.17393278 68.38492072]\n",
      "R2_score: 66.8518392241478\n",
      "\n",
      "\n",
      "AT CV :- 10\n",
      "Cross Validation score is: [63.66673419 64.0913188  68.22729567 71.34995037 69.4420495  65.5763515\n",
      " 65.87494465 65.95307281 67.55322751 67.94514479]\n",
      "R2_score: 66.96800897893137\n",
      "\n",
      "\n",
      "AT CV :- 11\n",
      "Cross Validation score is: [62.77153964 65.32556156 63.53488545 73.3902556  69.19151563 67.65377093\n",
      " 67.03068977 63.5383026  66.9012075  67.4936266  68.13086577]\n",
      "R2_score: 66.81474736832004\n",
      "\n",
      "\n",
      "AT CV :- 12\n",
      "Cross Validation score is: [61.91160879 66.14528885 62.68217257 72.01074587 70.35716562 70.02825664\n",
      " 65.80593    65.86577104 65.42078223 67.76025562 64.63553822 70.98065045]\n",
      "R2_score: 66.96701382581657\n",
      "\n",
      "\n",
      "AT CV :- 13\n",
      "Cross Validation score is: [61.82789845 63.88894979 67.55447693 68.36747773 71.93053334 68.83062896\n",
      " 66.69316341 67.41863733 65.14804741 64.53012698 68.73451203 64.08913443\n",
      " 71.11425378]\n",
      "R2_score: 66.93291081291281\n",
      "\n",
      "\n",
      "AT CV :- 14\n",
      "Cross Validation score is: [60.55002198 65.09697271 65.6232488  68.32862421 72.85017979 69.04606398\n",
      " 69.7255739  64.97661203 67.65902335 63.57348855 67.06987206 67.78620286\n",
      " 64.87482041 70.57640662]\n",
      "R2_score: 66.98122223069235\n",
      "\n",
      "\n"
     ]
    }
   ],
   "source": [
    "for j in range(2,15):\n",
    "    lr_score=cross_val_score(lr,x_scaled,y,cv=j)\n",
    "    lr_s=lr_score.mean()\n",
    "    print(\"AT CV :-\",j)\n",
    "    print(\"Cross Validation score is:\",lr_score*100)\n",
    "    print(\"R2_score:\",lr_s*100)\n",
    "    print(\"\\n\")"
   ]
  },
  {
   "cell_type": "markdown",
   "id": "2dd38de7",
   "metadata": {},
   "source": [
    "**We can choose cv 14.**"
   ]
  },
  {
   "cell_type": "code",
   "execution_count": 374,
   "id": "4feea6d6",
   "metadata": {},
   "outputs": [
    {
     "data": {
      "text/plain": [
       "array([0.65817775, 0.52556086, 0.63436106, 0.67542754, 0.71316358,\n",
       "       0.73647926, 0.68044485, 0.59637421, 0.65370657, 0.6575202 ,\n",
       "       0.64120211, 0.66577338, 0.6137129 , 0.61361318])"
      ]
     },
     "execution_count": 374,
     "metadata": {},
     "output_type": "execute_result"
    }
   ],
   "source": [
    "cross_val_score(lr,x_train,y_train,cv=14)"
   ]
  },
  {
   "cell_type": "code",
   "execution_count": 375,
   "id": "482117f9",
   "metadata": {},
   "outputs": [],
   "source": [
    "lr_cv_score=cross_val_score(lr,x_train,y_train,cv=14).mean()"
   ]
  },
  {
   "cell_type": "code",
   "execution_count": 376,
   "id": "f399faef",
   "metadata": {},
   "outputs": [
    {
     "data": {
      "text/plain": [
       "0.6475369598277902"
      ]
     },
     "execution_count": 376,
     "metadata": {},
     "output_type": "execute_result"
    }
   ],
   "source": [
    "lr_cv_score"
   ]
  },
  {
   "cell_type": "code",
   "execution_count": 377,
   "id": "9887afd1",
   "metadata": {},
   "outputs": [],
   "source": [
    "lr_score=r2_score(y_test,y_pred)"
   ]
  },
  {
   "cell_type": "code",
   "execution_count": 378,
   "id": "bd174f19",
   "metadata": {},
   "outputs": [
    {
     "data": {
      "text/plain": [
       "0.6729019579392055"
      ]
     },
     "execution_count": 378,
     "metadata": {},
     "output_type": "execute_result"
    }
   ],
   "source": [
    "lr_score"
   ]
  },
  {
   "cell_type": "code",
   "execution_count": 379,
   "id": "acfc04f9",
   "metadata": {},
   "outputs": [],
   "source": [
    "lr_MAE=MAE"
   ]
  },
  {
   "cell_type": "code",
   "execution_count": 380,
   "id": "2f52f8f2",
   "metadata": {},
   "outputs": [
    {
     "data": {
      "text/plain": [
       "1821.6515498872177"
      ]
     },
     "execution_count": 380,
     "metadata": {},
     "output_type": "execute_result"
    }
   ],
   "source": [
    "lr_MAE"
   ]
  },
  {
   "cell_type": "markdown",
   "id": "5bfc9e3a",
   "metadata": {},
   "source": [
    "## 14.1 KNN Regressor"
   ]
  },
  {
   "cell_type": "code",
   "execution_count": 381,
   "id": "0a59cb5e",
   "metadata": {},
   "outputs": [],
   "source": [
    "from sklearn.neighbors import KNeighborsRegressor"
   ]
  },
  {
   "cell_type": "code",
   "execution_count": 382,
   "id": "57a717e0",
   "metadata": {},
   "outputs": [],
   "source": [
    "x_train,x_test,y_train,y_test=train_test_split(x_scaled,y,test_size=0.30,random_state=346)"
   ]
  },
  {
   "cell_type": "code",
   "execution_count": 383,
   "id": "9d468795",
   "metadata": {},
   "outputs": [],
   "source": [
    "knn=KNeighborsRegressor()"
   ]
  },
  {
   "cell_type": "code",
   "execution_count": 384,
   "id": "31d3ecf2",
   "metadata": {},
   "outputs": [
    {
     "data": {
      "text/plain": [
       "KNeighborsRegressor()"
      ]
     },
     "execution_count": 384,
     "metadata": {},
     "output_type": "execute_result"
    }
   ],
   "source": [
    "knn.fit(x_train,y_train)"
   ]
  },
  {
   "cell_type": "markdown",
   "id": "da5a613e",
   "metadata": {},
   "source": [
    "## 14.2 Evaluation Metrics"
   ]
  },
  {
   "cell_type": "code",
   "execution_count": 385,
   "id": "317f991c",
   "metadata": {},
   "outputs": [],
   "source": [
    "y_pred=knn.predict(x_test)"
   ]
  },
  {
   "cell_type": "code",
   "execution_count": 386,
   "id": "3442fe6e",
   "metadata": {},
   "outputs": [
    {
     "data": {
      "text/plain": [
       "0.7884397014952051"
      ]
     },
     "execution_count": 386,
     "metadata": {},
     "output_type": "execute_result"
    }
   ],
   "source": [
    "r2_score(y_test,y_pred)"
   ]
  },
  {
   "cell_type": "code",
   "execution_count": 387,
   "id": "2ba68d21",
   "metadata": {},
   "outputs": [],
   "source": [
    "MAE=mean_absolute_error(y_test,y_pred)"
   ]
  },
  {
   "cell_type": "code",
   "execution_count": 388,
   "id": "d6150203",
   "metadata": {},
   "outputs": [
    {
     "data": {
      "text/plain": [
       "1070.311326053042"
      ]
     },
     "execution_count": 388,
     "metadata": {},
     "output_type": "execute_result"
    }
   ],
   "source": [
    "MAE"
   ]
  },
  {
   "cell_type": "code",
   "execution_count": 389,
   "id": "8f15cda9",
   "metadata": {},
   "outputs": [],
   "source": [
    "RMSE=np.sqrt(mean_squared_error(y_test,y_pred))"
   ]
  },
  {
   "cell_type": "code",
   "execution_count": 390,
   "id": "26d24ebc",
   "metadata": {},
   "outputs": [
    {
     "data": {
      "text/plain": [
       "2143.8490060371387"
      ]
     },
     "execution_count": 390,
     "metadata": {},
     "output_type": "execute_result"
    }
   ],
   "source": [
    "RMSE"
   ]
  },
  {
   "cell_type": "markdown",
   "id": "d281f8e5",
   "metadata": {},
   "source": [
    "## 14.3 Choosing best CV "
   ]
  },
  {
   "cell_type": "code",
   "execution_count": 1763,
   "id": "a5dcae0f",
   "metadata": {},
   "outputs": [
    {
     "name": "stdout",
     "output_type": "stream",
     "text": [
      "AT CV :- 2\n",
      "Cross Validation score is: [76.47800808 75.73687546]\n",
      "R2_score: 76.10744177010872\n",
      "\n",
      "\n",
      "AT CV :- 3\n",
      "Cross Validation score is: [76.03024797 79.70034072 77.72602789]\n",
      "R2_score: 77.81887219267506\n",
      "\n",
      "\n",
      "AT CV :- 4\n",
      "Cross Validation score is: [77.17696201 81.97262576 78.62980375 80.16130011]\n",
      "R2_score: 79.48517290599554\n",
      "\n",
      "\n",
      "AT CV :- 5\n",
      "Cross Validation score is: [78.43716015 80.86666528 79.83090237 80.29180862 79.88673456]\n",
      "R2_score: 79.86265419374871\n",
      "\n",
      "\n",
      "AT CV :- 6\n",
      "Cross Validation score is: [77.9215941  79.16973452 84.15080782 78.402596   80.29275029 80.33825186]\n",
      "R2_score: 80.04595576496975\n",
      "\n",
      "\n",
      "AT CV :- 7\n",
      "Cross Validation score is: [76.69462445 78.06699365 85.59535138 79.97766217 78.68989219 83.09743078\n",
      " 79.81139267]\n",
      "R2_score: 80.27619246980146\n",
      "\n",
      "\n",
      "AT CV :- 8\n",
      "Cross Validation score is: [78.96108167 77.35088279 82.09102306 83.53244293 78.78440412 79.84873789\n",
      " 81.88245599 80.10850431]\n",
      "R2_score: 80.31994159286995\n",
      "\n",
      "\n",
      "AT CV :- 9\n",
      "Cross Validation score is: [78.3070102  80.47977369 78.20734536 84.88829912 79.25986755 79.04064843\n",
      " 80.40896095 82.91719198 79.95969918]\n",
      "R2_score: 80.38542182844442\n",
      "\n",
      "\n",
      "AT CV :- 10\n",
      "Cross Validation score is: [77.36570902 79.93772929 77.87721557 86.21999061 83.94585931 76.5325906\n",
      " 79.08712849 82.98692811 81.84377157 79.28560936]\n",
      "R2_score: 80.50825319309673\n",
      "\n",
      "\n",
      "AT CV :- 11\n",
      "Cross Validation score is: [76.20051385 80.62643268 78.84226263 82.18991389 84.71550692 78.78722323\n",
      " 81.10309759 78.90998098 80.68456615 82.58701169 79.07222316]\n",
      "R2_score: 80.33806661570115\n",
      "\n",
      "\n",
      "AT CV :- 12\n",
      "Cross Validation score is: [74.22961898 81.9379466  78.78324311 80.37248017 84.21352491 85.52298669\n",
      " 77.81117605 77.90682192 81.59488574 82.00416634 79.41980192 82.69440563]\n",
      "R2_score: 80.54092150629323\n",
      "\n",
      "\n",
      "AT CV :- 13\n",
      "Cross Validation score is: [72.95930681 81.09273922 85.68576464 76.77552731 86.08548021 83.45545054\n",
      " 79.02217032 77.83667342 78.81872648 81.6106827  84.88801011 78.52949829\n",
      " 82.3631499 ]\n",
      "R2_score: 80.7017830736236\n",
      "\n",
      "\n",
      "AT CV :- 14\n",
      "Cross Validation score is: [72.04723094 81.72357713 83.73080934 75.41530611 88.18608468 82.59983578\n",
      " 85.65207587 77.21910495 80.9112361  78.24118169 82.38101817 84.4824867\n",
      " 78.18742405 82.18397356]\n",
      "R2_score: 80.92581036364655\n",
      "\n",
      "\n"
     ]
    }
   ],
   "source": [
    "for j in range(2,15):\n",
    "    knn_score=cross_val_score(knn,x_scaled,y,cv=j)\n",
    "    knn_s=knn_score.mean()\n",
    "    print(\"AT CV :-\",j)\n",
    "    print(\"Cross Validation score is:\",knn_score*100)\n",
    "    print(\"R2_score:\",knn_s*100)\n",
    "    print(\"\\n\")"
   ]
  },
  {
   "cell_type": "markdown",
   "id": "fc233578",
   "metadata": {},
   "source": [
    "**We can choose best cv 14**"
   ]
  },
  {
   "cell_type": "code",
   "execution_count": 391,
   "id": "dc0f1e8d",
   "metadata": {},
   "outputs": [
    {
     "data": {
      "text/plain": [
       "array([0.57096171, 0.75341466, 0.8021248 , 0.76531015, 0.83633433,\n",
       "       0.84003978, 0.82647998, 0.70562563, 0.79495724, 0.75314768,\n",
       "       0.76391502, 0.80584215, 0.74492677, 0.76452683])"
      ]
     },
     "execution_count": 391,
     "metadata": {},
     "output_type": "execute_result"
    }
   ],
   "source": [
    "cross_val_score(knn,x_train,y_train,cv=14)"
   ]
  },
  {
   "cell_type": "code",
   "execution_count": 392,
   "id": "0f0ae1ed",
   "metadata": {},
   "outputs": [],
   "source": [
    "knn_cv_score=cross_val_score(knn,x_train,y_train,cv=14).mean()"
   ]
  },
  {
   "cell_type": "code",
   "execution_count": 393,
   "id": "14b24763",
   "metadata": {},
   "outputs": [],
   "source": [
    "knn_score=r2_score(y_test,y_pred)"
   ]
  },
  {
   "cell_type": "code",
   "execution_count": 394,
   "id": "4358badd",
   "metadata": {},
   "outputs": [
    {
     "data": {
      "text/plain": [
       "0.7884397014952051"
      ]
     },
     "execution_count": 394,
     "metadata": {},
     "output_type": "execute_result"
    }
   ],
   "source": [
    "knn_score"
   ]
  },
  {
   "cell_type": "code",
   "execution_count": 395,
   "id": "17911adb",
   "metadata": {},
   "outputs": [
    {
     "data": {
      "text/plain": [
       "0.76625762431296"
      ]
     },
     "execution_count": 395,
     "metadata": {},
     "output_type": "execute_result"
    }
   ],
   "source": [
    "knn_cv_score"
   ]
  },
  {
   "cell_type": "code",
   "execution_count": 396,
   "id": "1c5e161a",
   "metadata": {},
   "outputs": [],
   "source": [
    "knn_MAE=MAE"
   ]
  },
  {
   "cell_type": "code",
   "execution_count": 397,
   "id": "fd2256f1",
   "metadata": {},
   "outputs": [
    {
     "data": {
      "text/plain": [
       "1070.311326053042"
      ]
     },
     "execution_count": 397,
     "metadata": {},
     "output_type": "execute_result"
    }
   ],
   "source": [
    "knn_MAE"
   ]
  },
  {
   "cell_type": "markdown",
   "id": "d1138d7c",
   "metadata": {},
   "source": [
    "## 15.1 Random Forest Regressor"
   ]
  },
  {
   "cell_type": "code",
   "execution_count": 455,
   "id": "ed9a614f",
   "metadata": {},
   "outputs": [],
   "source": [
    "from sklearn.ensemble import RandomForestRegressor"
   ]
  },
  {
   "cell_type": "code",
   "execution_count": 456,
   "id": "983b0738",
   "metadata": {},
   "outputs": [
    {
     "ename": "ValueError",
     "evalue": "Found input variables with inconsistent numbers of samples: [2671, 10682]",
     "output_type": "error",
     "traceback": [
      "\u001b[1;31m---------------------------------------------------------------------------\u001b[0m",
      "\u001b[1;31mValueError\u001b[0m                                Traceback (most recent call last)",
      "\u001b[1;32m<ipython-input-456-dc0c1070fec9>\u001b[0m in \u001b[0;36m<module>\u001b[1;34m\u001b[0m\n\u001b[1;32m----> 1\u001b[1;33m \u001b[0mx_train\u001b[0m\u001b[1;33m,\u001b[0m\u001b[0mx_test\u001b[0m\u001b[1;33m,\u001b[0m\u001b[0my_train\u001b[0m\u001b[1;33m,\u001b[0m\u001b[0my_test\u001b[0m\u001b[1;33m=\u001b[0m\u001b[0mtrain_test_split\u001b[0m\u001b[1;33m(\u001b[0m\u001b[0mx_scaled\u001b[0m\u001b[1;33m,\u001b[0m\u001b[0my\u001b[0m\u001b[1;33m,\u001b[0m\u001b[0mtest_size\u001b[0m\u001b[1;33m=\u001b[0m\u001b[1;36m0.30\u001b[0m\u001b[1;33m,\u001b[0m\u001b[0mrandom_state\u001b[0m\u001b[1;33m=\u001b[0m\u001b[1;36m346\u001b[0m\u001b[1;33m)\u001b[0m\u001b[1;33m\u001b[0m\u001b[1;33m\u001b[0m\u001b[0m\n\u001b[0m",
      "\u001b[1;32m~\\anaconda3\\lib\\site-packages\\sklearn\\model_selection\\_split.py\u001b[0m in \u001b[0;36mtrain_test_split\u001b[1;34m(test_size, train_size, random_state, shuffle, stratify, *arrays)\u001b[0m\n\u001b[0;32m   2170\u001b[0m         \u001b[1;32mraise\u001b[0m \u001b[0mValueError\u001b[0m\u001b[1;33m(\u001b[0m\u001b[1;34m\"At least one array required as input\"\u001b[0m\u001b[1;33m)\u001b[0m\u001b[1;33m\u001b[0m\u001b[1;33m\u001b[0m\u001b[0m\n\u001b[0;32m   2171\u001b[0m \u001b[1;33m\u001b[0m\u001b[0m\n\u001b[1;32m-> 2172\u001b[1;33m     \u001b[0marrays\u001b[0m \u001b[1;33m=\u001b[0m \u001b[0mindexable\u001b[0m\u001b[1;33m(\u001b[0m\u001b[1;33m*\u001b[0m\u001b[0marrays\u001b[0m\u001b[1;33m)\u001b[0m\u001b[1;33m\u001b[0m\u001b[1;33m\u001b[0m\u001b[0m\n\u001b[0m\u001b[0;32m   2173\u001b[0m \u001b[1;33m\u001b[0m\u001b[0m\n\u001b[0;32m   2174\u001b[0m     \u001b[0mn_samples\u001b[0m \u001b[1;33m=\u001b[0m \u001b[0m_num_samples\u001b[0m\u001b[1;33m(\u001b[0m\u001b[0marrays\u001b[0m\u001b[1;33m[\u001b[0m\u001b[1;36m0\u001b[0m\u001b[1;33m]\u001b[0m\u001b[1;33m)\u001b[0m\u001b[1;33m\u001b[0m\u001b[1;33m\u001b[0m\u001b[0m\n",
      "\u001b[1;32m~\\anaconda3\\lib\\site-packages\\sklearn\\utils\\validation.py\u001b[0m in \u001b[0;36mindexable\u001b[1;34m(*iterables)\u001b[0m\n\u001b[0;32m    297\u001b[0m     \"\"\"\n\u001b[0;32m    298\u001b[0m     \u001b[0mresult\u001b[0m \u001b[1;33m=\u001b[0m \u001b[1;33m[\u001b[0m\u001b[0m_make_indexable\u001b[0m\u001b[1;33m(\u001b[0m\u001b[0mX\u001b[0m\u001b[1;33m)\u001b[0m \u001b[1;32mfor\u001b[0m \u001b[0mX\u001b[0m \u001b[1;32min\u001b[0m \u001b[0miterables\u001b[0m\u001b[1;33m]\u001b[0m\u001b[1;33m\u001b[0m\u001b[1;33m\u001b[0m\u001b[0m\n\u001b[1;32m--> 299\u001b[1;33m     \u001b[0mcheck_consistent_length\u001b[0m\u001b[1;33m(\u001b[0m\u001b[1;33m*\u001b[0m\u001b[0mresult\u001b[0m\u001b[1;33m)\u001b[0m\u001b[1;33m\u001b[0m\u001b[1;33m\u001b[0m\u001b[0m\n\u001b[0m\u001b[0;32m    300\u001b[0m     \u001b[1;32mreturn\u001b[0m \u001b[0mresult\u001b[0m\u001b[1;33m\u001b[0m\u001b[1;33m\u001b[0m\u001b[0m\n\u001b[0;32m    301\u001b[0m \u001b[1;33m\u001b[0m\u001b[0m\n",
      "\u001b[1;32m~\\anaconda3\\lib\\site-packages\\sklearn\\utils\\validation.py\u001b[0m in \u001b[0;36mcheck_consistent_length\u001b[1;34m(*arrays)\u001b[0m\n\u001b[0;32m    260\u001b[0m     \u001b[0muniques\u001b[0m \u001b[1;33m=\u001b[0m \u001b[0mnp\u001b[0m\u001b[1;33m.\u001b[0m\u001b[0munique\u001b[0m\u001b[1;33m(\u001b[0m\u001b[0mlengths\u001b[0m\u001b[1;33m)\u001b[0m\u001b[1;33m\u001b[0m\u001b[1;33m\u001b[0m\u001b[0m\n\u001b[0;32m    261\u001b[0m     \u001b[1;32mif\u001b[0m \u001b[0mlen\u001b[0m\u001b[1;33m(\u001b[0m\u001b[0muniques\u001b[0m\u001b[1;33m)\u001b[0m \u001b[1;33m>\u001b[0m \u001b[1;36m1\u001b[0m\u001b[1;33m:\u001b[0m\u001b[1;33m\u001b[0m\u001b[1;33m\u001b[0m\u001b[0m\n\u001b[1;32m--> 262\u001b[1;33m         raise ValueError(\"Found input variables with inconsistent numbers of\"\n\u001b[0m\u001b[0;32m    263\u001b[0m                          \" samples: %r\" % [int(l) for l in lengths])\n\u001b[0;32m    264\u001b[0m \u001b[1;33m\u001b[0m\u001b[0m\n",
      "\u001b[1;31mValueError\u001b[0m: Found input variables with inconsistent numbers of samples: [2671, 10682]"
     ]
    }
   ],
   "source": [
    "x_train,x_test,y_train,y_test=train_test_split(x_scaled,y,test_size=0.30,random_state=346)"
   ]
  },
  {
   "cell_type": "code",
   "execution_count": 457,
   "id": "fec0b83e",
   "metadata": {},
   "outputs": [],
   "source": [
    "rfr=RandomForestRegressor()"
   ]
  },
  {
   "cell_type": "code",
   "execution_count": 458,
   "id": "a69a87ec",
   "metadata": {},
   "outputs": [
    {
     "data": {
      "text/plain": [
       "RandomForestRegressor()"
      ]
     },
     "execution_count": 458,
     "metadata": {},
     "output_type": "execute_result"
    }
   ],
   "source": [
    "rfr.fit(x_train,y_train)"
   ]
  },
  {
   "cell_type": "markdown",
   "id": "ea006544",
   "metadata": {},
   "source": [
    "## 15.2 Evaluation Metrics"
   ]
  },
  {
   "cell_type": "code",
   "execution_count": 459,
   "id": "709014ef",
   "metadata": {},
   "outputs": [],
   "source": [
    "y_pred=rfr.predict(x_test)"
   ]
  },
  {
   "cell_type": "code",
   "execution_count": 460,
   "id": "1de40ecd",
   "metadata": {},
   "outputs": [],
   "source": [
    "rfr_score=r2_score(y_test,y_pred)"
   ]
  },
  {
   "cell_type": "code",
   "execution_count": 461,
   "id": "658492f5",
   "metadata": {},
   "outputs": [],
   "source": [
    "MAE=mean_absolute_error(y_test,y_pred)"
   ]
  },
  {
   "cell_type": "code",
   "execution_count": 462,
   "id": "fb60aba4",
   "metadata": {},
   "outputs": [
    {
     "data": {
      "text/plain": [
       "712.8192580367978"
      ]
     },
     "execution_count": 462,
     "metadata": {},
     "output_type": "execute_result"
    }
   ],
   "source": [
    "MAE"
   ]
  },
  {
   "cell_type": "code",
   "execution_count": 463,
   "id": "b8a67898",
   "metadata": {},
   "outputs": [],
   "source": [
    "RMSE=np.sqrt(mean_squared_error(y_test,y_pred))"
   ]
  },
  {
   "cell_type": "code",
   "execution_count": 464,
   "id": "26eb58b3",
   "metadata": {},
   "outputs": [
    {
     "data": {
      "text/plain": [
       "1631.1564209494593"
      ]
     },
     "execution_count": 464,
     "metadata": {},
     "output_type": "execute_result"
    }
   ],
   "source": [
    "RMSE"
   ]
  },
  {
   "cell_type": "markdown",
   "id": "ea0f679e",
   "metadata": {},
   "source": [
    "## 15.3 Chossing best CV "
   ]
  },
  {
   "cell_type": "code",
   "execution_count": 1744,
   "id": "81ebb339",
   "metadata": {},
   "outputs": [
    {
     "name": "stdout",
     "output_type": "stream",
     "text": [
      "AT CV :- 2\n",
      "Cross Validation score is: [86.9292223  85.98440761]\n",
      "R2_score: 86.45681495626609\n",
      "\n",
      "\n",
      "AT CV :- 3\n",
      "Cross Validation score is: [84.83828466 90.09468625 84.83916771]\n",
      "R2_score: 86.59071287472725\n",
      "\n",
      "\n",
      "AT CV :- 4\n",
      "Cross Validation score is: [83.82659878 90.74043027 90.26685074 86.96848147]\n",
      "R2_score: 87.95059031312984\n",
      "\n",
      "\n",
      "AT CV :- 5\n",
      "Cross Validation score is: [87.50314174 88.93134849 91.54522113 90.54170982 86.04813894]\n",
      "R2_score: 88.91391202576042\n",
      "\n",
      "\n",
      "AT CV :- 6\n",
      "Cross Validation score is: [88.90298904 85.73854399 91.84858556 89.58202712 91.84445855 84.42412392]\n",
      "R2_score: 88.72345469676972\n",
      "\n",
      "\n",
      "AT CV :- 7\n",
      "Cross Validation score is: [88.83699171 84.72993509 91.45364932 91.06826653 90.45186434 93.16909185\n",
      " 83.22110067]\n",
      "R2_score: 88.99012850079521\n",
      "\n",
      "\n",
      "AT CV :- 8\n",
      "Cross Validation score is: [89.7505972  83.95223376 90.85717775 91.7356834  90.79919053 90.57903775\n",
      " 91.41671288 84.56971468]\n",
      "R2_score: 89.20754349314763\n",
      "\n",
      "\n",
      "AT CV :- 9\n",
      "Cross Validation score is: [87.93439945 87.93960251 85.81810135 91.97092881 91.77699991 88.36127895\n",
      " 92.9436357  91.42836898 82.50260351]\n",
      "R2_score: 88.96399101697384\n",
      "\n",
      "\n",
      "AT CV :- 10\n",
      "Cross Validation score is: [87.67887916 88.52616527 85.41254017 92.17971954 92.12363897 90.87260992\n",
      " 89.42796604 93.47680431 90.8811524  82.53390141]\n",
      "R2_score: 89.31133771751342\n",
      "\n",
      "\n",
      "AT CV :- 11\n",
      "Cross Validation score is: [87.03583371 90.13748031 81.74798987 90.05215882 91.95633936 91.54739501\n",
      " 91.35406599 89.65238938 92.06029039 89.30416043 84.81650162]\n",
      "R2_score: 89.06041862707383\n",
      "\n",
      "\n",
      "AT CV :- 12\n",
      "Cross Validation score is: [85.72993504 90.82993053 83.34322337 88.78813945 91.53642689 92.44651919\n",
      " 90.85980769 87.63542873 93.16993151 91.49493672 87.1355796  83.08065058]\n",
      "R2_score: 88.83754244161022\n",
      "\n",
      "\n",
      "AT CV :- 13\n",
      "Cross Validation score is: [85.21602016 90.43777862 90.72779782 83.77615492 92.36323133 92.13084881\n",
      " 91.94695492 90.8967735  90.19817172 93.21625677 92.93806408 87.13790989\n",
      " 82.51693808]\n",
      "R2_score: 89.50022312362181\n",
      "\n",
      "\n",
      "AT CV :- 14\n",
      "Cross Validation score is: [83.69201272 90.07516755 89.83313434 83.40760384 93.12656749 91.45799621\n",
      " 92.22016222 91.0046157  91.33383745 89.22163769 93.7065433  93.06233306\n",
      " 86.89835788 81.87425106]\n",
      "R2_score: 89.3510157514419\n",
      "\n",
      "\n"
     ]
    }
   ],
   "source": [
    "for j in range(2,15):\n",
    "    rfr_score=cross_val_score(rfr,x_scaled,y,cv=j)\n",
    "    rfr_s=rfr_score.mean()\n",
    "    print(\"AT CV :-\",j)\n",
    "    print(\"Cross Validation score is:\",rfr_score*100)\n",
    "    print(\"R2_score:\",rfr_s*100)\n",
    "    print(\"\\n\")"
   ]
  },
  {
   "cell_type": "markdown",
   "id": "a38698f3",
   "metadata": {},
   "source": [
    "**We can choose best cv 13.**"
   ]
  },
  {
   "cell_type": "code",
   "execution_count": 465,
   "id": "f83f1929",
   "metadata": {},
   "outputs": [
    {
     "data": {
      "text/plain": [
       "array([0.65925749, 0.88734021, 0.90127135, 0.90979315, 0.91862762,\n",
       "       0.87632123, 0.8334439 , 0.93934839, 0.79687857, 0.89418602,\n",
       "       0.87929635, 0.89342335, 0.82906635])"
      ]
     },
     "execution_count": 465,
     "metadata": {},
     "output_type": "execute_result"
    }
   ],
   "source": [
    "cross_val_score(rfr,x_train,y_train,cv=13)"
   ]
  },
  {
   "cell_type": "code",
   "execution_count": 466,
   "id": "3ea79c75",
   "metadata": {},
   "outputs": [],
   "source": [
    "rfr_cv_score=cross_val_score(rfr,x_train,y_train,cv=13).mean()"
   ]
  },
  {
   "cell_type": "code",
   "execution_count": 467,
   "id": "3d6e3999",
   "metadata": {},
   "outputs": [
    {
     "data": {
      "text/plain": [
       "0.8623453862844216"
      ]
     },
     "execution_count": 467,
     "metadata": {},
     "output_type": "execute_result"
    }
   ],
   "source": [
    "rfr_cv_score"
   ]
  },
  {
   "cell_type": "code",
   "execution_count": 468,
   "id": "e10965fd",
   "metadata": {},
   "outputs": [],
   "source": [
    "rfr_score=r2_score(y_test,y_pred)"
   ]
  },
  {
   "cell_type": "code",
   "execution_count": 469,
   "id": "19507c5e",
   "metadata": {},
   "outputs": [
    {
     "data": {
      "text/plain": [
       "0.87752794564589"
      ]
     },
     "execution_count": 469,
     "metadata": {},
     "output_type": "execute_result"
    }
   ],
   "source": [
    "rfr_score"
   ]
  },
  {
   "cell_type": "code",
   "execution_count": 470,
   "id": "cbff0aaf",
   "metadata": {},
   "outputs": [],
   "source": [
    "rfr_MAE=MAE"
   ]
  },
  {
   "cell_type": "code",
   "execution_count": 471,
   "id": "8fa67e4a",
   "metadata": {},
   "outputs": [
    {
     "data": {
      "text/plain": [
       "712.8192580367978"
      ]
     },
     "execution_count": 471,
     "metadata": {},
     "output_type": "execute_result"
    }
   ],
   "source": [
    "rfr_MAE"
   ]
  },
  {
   "cell_type": "markdown",
   "id": "f1b914d1",
   "metadata": {},
   "source": [
    "## 16.1 Gradient Boosting"
   ]
  },
  {
   "cell_type": "code",
   "execution_count": 415,
   "id": "0880104c",
   "metadata": {},
   "outputs": [],
   "source": [
    "from sklearn.ensemble import GradientBoostingRegressor"
   ]
  },
  {
   "cell_type": "code",
   "execution_count": 416,
   "id": "71440669",
   "metadata": {},
   "outputs": [],
   "source": [
    "gbr=GradientBoostingRegressor()"
   ]
  },
  {
   "cell_type": "code",
   "execution_count": 417,
   "id": "1a90f47b",
   "metadata": {},
   "outputs": [
    {
     "data": {
      "text/plain": [
       "GradientBoostingRegressor()"
      ]
     },
     "execution_count": 417,
     "metadata": {},
     "output_type": "execute_result"
    }
   ],
   "source": [
    "gbr.fit(x_train,y_train)"
   ]
  },
  {
   "cell_type": "markdown",
   "id": "1475d3f1",
   "metadata": {},
   "source": [
    "## 16.2 Evaluation Metrics"
   ]
  },
  {
   "cell_type": "code",
   "execution_count": 418,
   "id": "6abb9ef5",
   "metadata": {},
   "outputs": [],
   "source": [
    "y_pred=gbr.predict(x_test)"
   ]
  },
  {
   "cell_type": "code",
   "execution_count": 419,
   "id": "2c4933e2",
   "metadata": {},
   "outputs": [
    {
     "data": {
      "text/plain": [
       "0.8206424849723472"
      ]
     },
     "execution_count": 419,
     "metadata": {},
     "output_type": "execute_result"
    }
   ],
   "source": [
    "r2_score(y_test,y_pred)"
   ]
  },
  {
   "cell_type": "code",
   "execution_count": 420,
   "id": "12540487",
   "metadata": {},
   "outputs": [],
   "source": [
    "MAE=mean_absolute_error(y_test,y_pred)"
   ]
  },
  {
   "cell_type": "code",
   "execution_count": 421,
   "id": "16fd2735",
   "metadata": {},
   "outputs": [
    {
     "data": {
      "text/plain": [
       "1278.62454276295"
      ]
     },
     "execution_count": 421,
     "metadata": {},
     "output_type": "execute_result"
    }
   ],
   "source": [
    "MAE"
   ]
  },
  {
   "cell_type": "code",
   "execution_count": 422,
   "id": "8061d6f1",
   "metadata": {},
   "outputs": [],
   "source": [
    "RMSE=np.sqrt(mean_squared_error(y_test,y_pred))"
   ]
  },
  {
   "cell_type": "code",
   "execution_count": 423,
   "id": "6bb066b3",
   "metadata": {},
   "outputs": [
    {
     "data": {
      "text/plain": [
       "1973.9534084798936"
      ]
     },
     "execution_count": 423,
     "metadata": {},
     "output_type": "execute_result"
    }
   ],
   "source": [
    "RMSE"
   ]
  },
  {
   "cell_type": "markdown",
   "id": "609c3aae",
   "metadata": {},
   "source": [
    "## 16.3 Choosing best CV"
   ]
  },
  {
   "cell_type": "code",
   "execution_count": 1780,
   "id": "bc5bfaa4",
   "metadata": {},
   "outputs": [
    {
     "name": "stdout",
     "output_type": "stream",
     "text": [
      "AT CV :- 2\n",
      "Cross Validation score is: [81.37833092 80.01709427]\n",
      "R2_score: 80.69771259613367\n",
      "\n",
      "\n",
      "AT CV :- 3\n",
      "Cross Validation score is: [80.47042856 82.23791332 80.26037748]\n",
      "R2_score: 80.98957312144674\n",
      "\n",
      "\n",
      "AT CV :- 4\n",
      "Cross Validation score is: [78.08804868 85.03010855 81.29914063 81.87275825]\n",
      "R2_score: 81.5725140280309\n",
      "\n",
      "\n",
      "AT CV :- 5\n",
      "Cross Validation score is: [79.426058   81.53037877 82.57732291 81.91401886 81.52141629]\n",
      "R2_score: 81.39383896512011\n",
      "\n",
      "\n",
      "AT CV :- 6\n",
      "Cross Validation score is: [79.0599125  81.22895716 84.00646992 81.4229905  82.54867088 81.03453975]\n",
      "R2_score: 81.550256786743\n",
      "\n",
      "\n",
      "AT CV :- 7\n",
      "Cross Validation score is: [78.89401842 80.55695054 84.70591556 82.32616474 83.22477593 81.46455098\n",
      " 80.75374664]\n",
      "R2_score: 81.70373183086646\n",
      "\n",
      "\n",
      "AT CV :- 8\n",
      "Cross Validation score is: [82.5002418  75.17571037 85.45510947 84.36573079 82.13990113 82.08231478\n",
      " 82.94071369 80.48103592]\n",
      "R2_score: 81.89259474410262\n",
      "\n",
      "\n",
      "AT CV :- 9\n",
      "Cross Validation score is: [80.51231931 78.53414254 81.31248671 83.78697791 82.92012137 81.30935565\n",
      " 84.34839138 82.8156651  79.47465768]\n",
      "R2_score: 81.6682352937716\n",
      "\n",
      "\n",
      "AT CV :- 10\n",
      "Cross Validation score is: [80.36744058 78.89433316 79.24830481 84.37778213 84.72562382 82.30448598\n",
      " 83.58757103 81.42431497 83.33612183 79.57581381]\n",
      "R2_score: 81.78417921241088\n",
      "\n",
      "\n",
      "AT CV :- 11\n",
      "Cross Validation score is: [80.64778437 78.90981391 75.89323254 86.10520205 83.82267824 82.12578276\n",
      " 83.98163048 81.49351928 81.9736174  82.00256213 80.80651595]\n",
      "R2_score: 81.61475810019625\n",
      "\n",
      "\n",
      "AT CV :- 12\n",
      "Cross Validation score is: [80.34227708 79.42408895 75.92441917 85.63106771 83.44056692 84.60760308\n",
      " 82.04342269 81.49255363 83.97940107 81.96991598 83.21310125 78.90014255]\n",
      "R2_score: 81.74738000633056\n",
      "\n",
      "\n",
      "AT CV :- 13\n",
      "Cross Validation score is: [79.53401119 78.23483339 83.26026167 80.98002498 83.52692933 84.9736686\n",
      " 82.09586703 82.74131467 83.14039504 81.61169376 82.78197474 83.6032076\n",
      " 79.85019928]\n",
      "R2_score: 82.02572163770506\n",
      "\n",
      "\n",
      "AT CV :- 14\n",
      "Cross Validation score is: [78.81421441 77.82076051 81.49232808 78.85846694 85.69059589 83.28342697\n",
      " 84.96512485 81.24568738 84.12238576 82.59572858 80.86464235 82.80837354\n",
      " 82.18284627 78.34105596]\n",
      "R2_score: 81.64897410542943\n",
      "\n",
      "\n"
     ]
    }
   ],
   "source": [
    "for j in range(2,15):\n",
    "    gbr_score=cross_val_score(gbr,x_scaled,y,cv=j)\n",
    "    gbr_s=gbr_score.mean()\n",
    "    print(\"AT CV :-\",j)\n",
    "    print(\"Cross Validation score is:\",gbr_score*100)\n",
    "    print(\"R2_score:\",gbr_s*100)\n",
    "    print(\"\\n\")"
   ]
  },
  {
   "cell_type": "markdown",
   "id": "d1e25442",
   "metadata": {},
   "source": [
    "**We can choose best cv 13.**"
   ]
  },
  {
   "cell_type": "code",
   "execution_count": 424,
   "id": "28b1a21c",
   "metadata": {},
   "outputs": [
    {
     "data": {
      "text/plain": [
       "array([0.66301842, 0.88700631, 0.90071211, 0.90402091, 0.91337009,\n",
       "       0.86119448, 0.83773802, 0.93264209, 0.79548198, 0.89434145,\n",
       "       0.88401357, 0.89475305, 0.83944578])"
      ]
     },
     "execution_count": 424,
     "metadata": {},
     "output_type": "execute_result"
    }
   ],
   "source": [
    "cross_val_score(rfr,x_train,y_train,cv=13)"
   ]
  },
  {
   "cell_type": "code",
   "execution_count": 425,
   "id": "e658b2c1",
   "metadata": {},
   "outputs": [],
   "source": [
    "gbr_cv_score=cross_val_score(rfr,x_train,y_train,cv=13).mean()"
   ]
  },
  {
   "cell_type": "code",
   "execution_count": 426,
   "id": "12df7c11",
   "metadata": {},
   "outputs": [
    {
     "data": {
      "text/plain": [
       "0.8620669415789546"
      ]
     },
     "execution_count": 426,
     "metadata": {},
     "output_type": "execute_result"
    }
   ],
   "source": [
    "gbr_cv_score"
   ]
  },
  {
   "cell_type": "code",
   "execution_count": 427,
   "id": "4337aeb7",
   "metadata": {},
   "outputs": [],
   "source": [
    "gbr_score=r2_score(y_test,y_pred)"
   ]
  },
  {
   "cell_type": "code",
   "execution_count": 428,
   "id": "9d9fd960",
   "metadata": {},
   "outputs": [
    {
     "data": {
      "text/plain": [
       "0.8206424849723472"
      ]
     },
     "execution_count": 428,
     "metadata": {},
     "output_type": "execute_result"
    }
   ],
   "source": [
    "gbr_score"
   ]
  },
  {
   "cell_type": "code",
   "execution_count": 429,
   "id": "05fb795a",
   "metadata": {},
   "outputs": [],
   "source": [
    "gbr_MAE=MAE"
   ]
  },
  {
   "cell_type": "code",
   "execution_count": 430,
   "id": "1a476dde",
   "metadata": {},
   "outputs": [
    {
     "data": {
      "text/plain": [
       "1278.62454276295"
      ]
     },
     "execution_count": 430,
     "metadata": {},
     "output_type": "execute_result"
    }
   ],
   "source": [
    "gbr_MAE"
   ]
  },
  {
   "cell_type": "markdown",
   "id": "e7e8fabc",
   "metadata": {},
   "source": [
    "# 17 Choosing best model by checking cross validation score"
   ]
  },
  {
   "cell_type": "code",
   "execution_count": 475,
   "id": "2ff3478a",
   "metadata": {},
   "outputs": [],
   "source": [
    "Linear_Regression={\"Accuracy Score\":(lr_score,2),\n",
    "                    \"CV Score\":(lr_cv_score,2),\n",
    "                    \"Difference\":lr_score-lr_cv_score,\n",
    "                  \"MAE\":lr_MAE}\n",
    "Knn={\"Accuracy Score\":(knn_score,2),\n",
    "                    \"CV Score\":(knn_cv_score,2),\n",
    "                    \"Difference\":knn_score-knn_cv_score,\n",
    "                    \"MAE\":knn_MAE}\n",
    "Random_Forest_Regressor={\"Accuracy Score\":(rfr_score,2),\n",
    "                    \"CV Score\":(rfr_cv_score,2),\n",
    "                    \"Difference\":rfr_score-rfr_cv_score,\n",
    "                        \"MAE\": rfr_MAE}\n",
    "Gradient_Boost_Regressor={\"Accuracy Score\":(gbr_score,2),\n",
    "                    \"CV Score\":(gbr_cv_score,2),\n",
    "                    \"Difference\":gbr_score-gbr_cv_score,\n",
    "                         \"MAE\":gbr_MAE}"
   ]
  },
  {
   "cell_type": "code",
   "execution_count": 476,
   "id": "6e99e464",
   "metadata": {},
   "outputs": [],
   "source": [
    "data=np.array([[lr_score,lr_cv_score,lr_score-lr_cv_score,lr_MAE],[knn_score,knn_cv_score,knn_score-knn_cv_score,knn_MAE],[rfr_score,rfr_cv_score,rfr_score-rfr_cv_score,rfr_MAE],[gbr_score,gbr_cv_score,gbr_score-gbr_cv_score,gbr_MAE]])"
   ]
  },
  {
   "cell_type": "code",
   "execution_count": 477,
   "id": "5b14fc2d",
   "metadata": {},
   "outputs": [],
   "source": [
    "index_value=[\"LInearRegression\",\"KNeighborsRegressor\",\"RandomForestRegressor\",\"GradientBoostRegressor\"]"
   ]
  },
  {
   "cell_type": "code",
   "execution_count": 478,
   "id": "ae67ecf1",
   "metadata": {},
   "outputs": [],
   "source": [
    "columns_value=[\"Score\",\"Cross Validation Score\",\"Difference\",\"MAE\"]"
   ]
  },
  {
   "cell_type": "code",
   "execution_count": 479,
   "id": "00cb302c",
   "metadata": {},
   "outputs": [],
   "source": [
    "model_selection=pd.DataFrame(data=data,\n",
    "                            index=index_value,\n",
    "                            columns=columns_value)"
   ]
  },
  {
   "cell_type": "code",
   "execution_count": 480,
   "id": "ea5c65aa",
   "metadata": {},
   "outputs": [
    {
     "data": {
      "text/html": [
       "<div>\n",
       "<style scoped>\n",
       "    .dataframe tbody tr th:only-of-type {\n",
       "        vertical-align: middle;\n",
       "    }\n",
       "\n",
       "    .dataframe tbody tr th {\n",
       "        vertical-align: top;\n",
       "    }\n",
       "\n",
       "    .dataframe thead th {\n",
       "        text-align: right;\n",
       "    }\n",
       "</style>\n",
       "<table border=\"1\" class=\"dataframe\">\n",
       "  <thead>\n",
       "    <tr style=\"text-align: right;\">\n",
       "      <th></th>\n",
       "      <th>Score</th>\n",
       "      <th>Cross Validation Score</th>\n",
       "      <th>Difference</th>\n",
       "      <th>MAE</th>\n",
       "    </tr>\n",
       "  </thead>\n",
       "  <tbody>\n",
       "    <tr>\n",
       "      <th>LInearRegression</th>\n",
       "      <td>0.672902</td>\n",
       "      <td>0.647537</td>\n",
       "      <td>0.025365</td>\n",
       "      <td>1821.651550</td>\n",
       "    </tr>\n",
       "    <tr>\n",
       "      <th>KNeighborsRegressor</th>\n",
       "      <td>0.788440</td>\n",
       "      <td>0.766258</td>\n",
       "      <td>0.022182</td>\n",
       "      <td>1070.311326</td>\n",
       "    </tr>\n",
       "    <tr>\n",
       "      <th>RandomForestRegressor</th>\n",
       "      <td>0.877528</td>\n",
       "      <td>0.862345</td>\n",
       "      <td>0.015183</td>\n",
       "      <td>712.819258</td>\n",
       "    </tr>\n",
       "    <tr>\n",
       "      <th>GradientBoostRegressor</th>\n",
       "      <td>0.820642</td>\n",
       "      <td>0.862067</td>\n",
       "      <td>-0.041424</td>\n",
       "      <td>1278.624543</td>\n",
       "    </tr>\n",
       "  </tbody>\n",
       "</table>\n",
       "</div>"
      ],
      "text/plain": [
       "                           Score  Cross Validation Score  Difference  \\\n",
       "LInearRegression        0.672902                0.647537    0.025365   \n",
       "KNeighborsRegressor     0.788440                0.766258    0.022182   \n",
       "RandomForestRegressor   0.877528                0.862345    0.015183   \n",
       "GradientBoostRegressor  0.820642                0.862067   -0.041424   \n",
       "\n",
       "                                MAE  \n",
       "LInearRegression        1821.651550  \n",
       "KNeighborsRegressor     1070.311326  \n",
       "RandomForestRegressor    712.819258  \n",
       "GradientBoostRegressor  1278.624543  "
      ]
     },
     "execution_count": 480,
     "metadata": {},
     "output_type": "execute_result"
    }
   ],
   "source": [
    "model_selection"
   ]
  },
  {
   "cell_type": "markdown",
   "id": "30cadd76",
   "metadata": {},
   "source": [
    "**As we can see amoung all model Random Forest Regressor is performing better in MAE and difference between score and cv.**"
   ]
  },
  {
   "cell_type": "markdown",
   "id": "6435b650",
   "metadata": {},
   "source": [
    "# 18.Hypertuning for our best model ( Random Forest Regressor)"
   ]
  },
  {
   "cell_type": "code",
   "execution_count": 481,
   "id": "e3a8c9e7",
   "metadata": {},
   "outputs": [],
   "source": [
    "from sklearn.model_selection import GridSearchCV"
   ]
  },
  {
   "cell_type": "code",
   "execution_count": 482,
   "id": "c9919a82",
   "metadata": {},
   "outputs": [],
   "source": [
    "param={\"min_samples_split\":[2,6,8],\n",
    "      \"min_samples_leaf\":[1,3,5,7,9],\n",
    "      \"n_estimators\":[150,200]\n",
    "      }\n",
    "      "
   ]
  },
  {
   "cell_type": "code",
   "execution_count": 483,
   "id": "160a3628",
   "metadata": {},
   "outputs": [
    {
     "data": {
      "text/plain": [
       "RandomForestRegressor()"
      ]
     },
     "execution_count": 483,
     "metadata": {},
     "output_type": "execute_result"
    }
   ],
   "source": [
    "RandomForestRegressor()"
   ]
  },
  {
   "cell_type": "code",
   "execution_count": 484,
   "id": "e5784a74",
   "metadata": {},
   "outputs": [],
   "source": [
    "grd=GridSearchCV(rfr,param_grid=param)"
   ]
  },
  {
   "cell_type": "code",
   "execution_count": 485,
   "id": "34bd6985",
   "metadata": {},
   "outputs": [
    {
     "data": {
      "text/plain": [
       "GridSearchCV(estimator=RandomForestRegressor(),\n",
       "             param_grid={'min_samples_leaf': [1, 3, 5, 7, 9],\n",
       "                         'min_samples_split': [2, 6, 8],\n",
       "                         'n_estimators': [150, 200]})"
      ]
     },
     "execution_count": 485,
     "metadata": {},
     "output_type": "execute_result"
    }
   ],
   "source": [
    "grd.fit(x_train,y_train)"
   ]
  },
  {
   "cell_type": "code",
   "execution_count": 486,
   "id": "ab692f66",
   "metadata": {},
   "outputs": [
    {
     "data": {
      "text/plain": [
       "{'min_samples_leaf': 1, 'min_samples_split': 2, 'n_estimators': 200}"
      ]
     },
     "execution_count": 486,
     "metadata": {},
     "output_type": "execute_result"
    }
   ],
   "source": [
    "grd.best_params_"
   ]
  },
  {
   "cell_type": "code",
   "execution_count": 487,
   "id": "70f384ca",
   "metadata": {},
   "outputs": [],
   "source": [
    "rfr=grd.best_estimator_"
   ]
  },
  {
   "cell_type": "code",
   "execution_count": 488,
   "id": "3a0d9024",
   "metadata": {},
   "outputs": [
    {
     "data": {
      "text/plain": [
       "RandomForestRegressor(n_estimators=200)"
      ]
     },
     "execution_count": 488,
     "metadata": {},
     "output_type": "execute_result"
    }
   ],
   "source": [
    "rfr.fit(x_train,y_train)"
   ]
  },
  {
   "cell_type": "code",
   "execution_count": 489,
   "id": "bda668da",
   "metadata": {},
   "outputs": [],
   "source": [
    "y_pred=rfr.predict(x_test)"
   ]
  },
  {
   "cell_type": "code",
   "execution_count": 490,
   "id": "b71ba4e4",
   "metadata": {},
   "outputs": [
    {
     "data": {
      "text/plain": [
       "0.8778731476139574"
      ]
     },
     "execution_count": 490,
     "metadata": {},
     "output_type": "execute_result"
    }
   ],
   "source": [
    "r2_score(y_test,y_pred)"
   ]
  },
  {
   "cell_type": "markdown",
   "id": "e6d8c140",
   "metadata": {},
   "source": [
    "**As we can see after doing hyperparamet tuning our model accuracy has marginally increased from 87.75 to 87.78.**"
   ]
  },
  {
   "cell_type": "markdown",
   "id": "068a5081",
   "metadata": {},
   "source": [
    "# 19. Model Prediction on Test Dataset"
   ]
  },
  {
   "cell_type": "code",
   "execution_count": 491,
   "id": "bc376049",
   "metadata": {},
   "outputs": [
    {
     "data": {
      "text/plain": [
       "(2671, 34)"
      ]
     },
     "execution_count": 491,
     "metadata": {},
     "output_type": "execute_result"
    }
   ],
   "source": [
    "df_test.shape"
   ]
  },
  {
   "cell_type": "code",
   "execution_count": 492,
   "id": "63168039",
   "metadata": {},
   "outputs": [],
   "source": [
    "x=df_test"
   ]
  },
  {
   "cell_type": "code",
   "execution_count": 493,
   "id": "9a67e1c3",
   "metadata": {},
   "outputs": [],
   "source": [
    "scaler=StandardScaler()"
   ]
  },
  {
   "cell_type": "code",
   "execution_count": 494,
   "id": "6cdb8036",
   "metadata": {},
   "outputs": [],
   "source": [
    "x_scaled=scaler.fit_transform(x)"
   ]
  },
  {
   "cell_type": "code",
   "execution_count": 495,
   "id": "0c4892ed",
   "metadata": {},
   "outputs": [
    {
     "data": {
      "text/plain": [
       "(2671, 34)"
      ]
     },
     "execution_count": 495,
     "metadata": {},
     "output_type": "execute_result"
    }
   ],
   "source": [
    "x_scaled.shape"
   ]
  },
  {
   "cell_type": "code",
   "execution_count": 496,
   "id": "7a090002",
   "metadata": {},
   "outputs": [],
   "source": [
    "prediction=rfr.predict(x_scaled)"
   ]
  },
  {
   "cell_type": "code",
   "execution_count": 497,
   "id": "115baa15",
   "metadata": {},
   "outputs": [
    {
     "data": {
      "text/plain": [
       "array([14675.03 ,  4254.125, 12898.   , ..., 15945.485, 15076.055,\n",
       "        7439.84 ])"
      ]
     },
     "execution_count": 497,
     "metadata": {},
     "output_type": "execute_result"
    }
   ],
   "source": [
    "prediction"
   ]
  },
  {
   "cell_type": "markdown",
   "id": "d5745dad",
   "metadata": {},
   "source": [
    "# 20. Model Saving"
   ]
  },
  {
   "cell_type": "code",
   "execution_count": 498,
   "id": "3a2c4d12",
   "metadata": {},
   "outputs": [],
   "source": [
    "import pickle\n",
    "filename=\"Flight_fare_prediction.pkl\"\n",
    "pickle.dump(rfr,open(filename,\"wb\"))"
   ]
  }
 ],
 "metadata": {
  "kernelspec": {
   "display_name": "Python 3",
   "language": "python",
   "name": "python3"
  },
  "language_info": {
   "codemirror_mode": {
    "name": "ipython",
    "version": 3
   },
   "file_extension": ".py",
   "mimetype": "text/x-python",
   "name": "python",
   "nbconvert_exporter": "python",
   "pygments_lexer": "ipython3",
   "version": "3.8.8"
  }
 },
 "nbformat": 4,
 "nbformat_minor": 5
}
